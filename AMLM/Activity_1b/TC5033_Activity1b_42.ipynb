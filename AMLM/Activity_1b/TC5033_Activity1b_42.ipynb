{
  "cells": [
    {
      "cell_type": "markdown",
      "metadata": {
        "id": "-op0Tc1W6Q6h"
      },
      "source": [
        "# Team Members\n"
      ]
    },
    {
      "cell_type": "markdown",
      "metadata": {
        "id": "e7hwHgCM6XJn"
      },
      "source": [
        "| Id        | Student                                 |\n",
        "|-----------|-----------------------------------------|\n",
        "| A01795654 | Raul Astorga Castro                     |\n",
        "| A01795579 | Edson Misael Astorga Castro             |\n",
        "| A01373679 | Luis Miguel Balderas González de Burgos |\n",
        "| A01730466 | Sinaí Avalos Rivera                     |\n",
        "| A01410682 | Carlos Miguel Arvizu Durán              |"
      ]
    },
    {
      "cell_type": "markdown",
      "metadata": {
        "id": "vXwEm3ngaEHY"
      },
      "source": [
        "\n",
        "\n",
        "# TC 5033\n",
        "## Deep Learning\n",
        "## Fully Connected Deep Neural Networks\n",
        "\n",
        "#### Activity 1b: Implementing a Fully Connected Network for Kaggle ASL Dataset\n",
        "\n",
        "- Objective\n",
        "\n",
        "The aim of this part of the activity is to apply your understanding of Fully Connected Networks by implementing a multilayer network for the [Kaggle ASL (American Sign Language) dataset](https://www.kaggle.com/datasets/grassknoted/asl-alphabet). While you have been provided with a complete solution for a Fully Connected Network using Numpy for the MNIST dataset, you are encouraged to try to come up with the solution.\n",
        "\n",
        "- Instructions\n",
        "\n",
        "    This activity requires submission in teams of 3 or 4 members. Submissions from smaller or larger teams will not be accepted unless prior approval has been granted (only due to exceptional circumstances). While teamwork is encouraged, each member is expected to contribute individually to the assignment. The final submission should feature the best arguments and solutions from each team member. Only one person per team needs to submit the completed work, but it is imperative that the names of all team members are listed in a Markdown cell at the very beginning of the notebook (either the first or second cell). Failure to include all team member names will result in the grade being awarded solely to the individual who submitted the assignment, with zero points given to other team members (no exceptions will be made to this rule).\n",
        "\n",
        "    Load and Preprocess Data: You are provided a starter code to load the data. Be sure to understand the code.\n",
        "\n",
        "    Review MNIST Notebook (Optional): Before diving into this activity, you have the option to revisit the MNIST example to refresh your understanding of how to build a Fully Connected Network using Numpy.\n",
        "\n",
        "    Start Fresh: Although you can refer to the MNIST solution at any point, try to implement the network for the ASL dataset on your own. This will reinforce your learning and understanding of the architecture and mathematics involved.\n",
        "\n",
        "    Implement Forward and Backward Pass: Write the code to perform the forward and backward passes, keeping in mind the specific challenges and characteristics of the ASL dataset.\n",
        "    \n",
        "     Design the Network: Create the architecture of the Fully Connected Network tailored for the ASL dataset. Choose the number of hidden layers, neurons, and hyperparameters judiciously.\n",
        "\n",
        "    Train the Model: Execute the training loop, ensuring to track performance metrics such as loss and accuracy.\n",
        "\n",
        "    Analyze and Document: Use Markdown cells to document in detail the choices you made in terms of architecture and hyperparameters, you may use figures, equations, etc to aid in your explanations. Include any metrics that help justify these choices and discuss the model's performance.  \n",
        "\n",
        "- Evaluation Criteria\n",
        "\n",
        "    - Code Readability and Comments\n",
        "    - Appropriateness of chosen architecture and hyperparameters for the ASL dataset\n",
        "    - Performance of the model on the ASL dataset (at least 70% acc)\n",
        "    - Quality of Markdown documentation\n",
        "\n",
        "- Submission\n",
        "\n",
        "Submit this Jupyter Notebook in canvas with your complete solution, ensuring your code is well-commented and includes Markdown cells that explain your design choices, results, and any challenges you encountered.\n"
      ]
    },
    {
      "cell_type": "markdown",
      "metadata": {
        "id": "Kln3MsWe4uYW"
      },
      "source": [
        "# Import files and libraries required for the model training"
      ]
    },
    {
      "cell_type": "markdown",
      "metadata": {
        "id": "imqQQIsy5BP3"
      },
      "source": [
        "## Libraries"
      ]
    },
    {
      "cell_type": "code",
      "execution_count": 1,
      "metadata": {
        "id": "vgup86ooaEHc"
      },
      "outputs": [],
      "source": [
        "import numpy as np\n",
        "import string\n",
        "import pandas as pd\n",
        "import matplotlib.pyplot as plt\n",
        "import cv2 as cv\n",
        "import os\n",
        "from sklearn.model_selection import train_test_split\n",
        "\n",
        "%load_ext autoreload\n",
        "%autoreload 2\n",
        "#################################\n",
        "%matplotlib inline\n"
      ]
    },
    {
      "cell_type": "markdown",
      "metadata": {
        "id": "gFGyUFoZ43T8"
      },
      "source": [
        "## Loading files with training and validation datasets\n"
      ]
    },
    {
      "cell_type": "code",
      "execution_count": 2,
      "metadata": {
        "id": "v2E6ihsfaEHd"
      },
      "outputs": [],
      "source": [
        "DATA_PATH = '/content/'\n",
        "train_df = pd.read_csv(os.path.join(DATA_PATH, 'sign_mnist_train.csv'))\n",
        "valid_df = pd.read_csv(os.path.join(DATA_PATH, 'sign_mnist_valid.csv'))"
      ]
    },
    {
      "cell_type": "code",
      "execution_count": 3,
      "metadata": {
        "colab": {
          "base_uri": "https://localhost:8080/",
          "height": 256
        },
        "id": "ar89LSo3aEHe",
        "outputId": "fbcbea58-8b2a-4e54-a499-6b531cbfedd8"
      },
      "outputs": [
        {
          "data": {
            "application/vnd.google.colaboratory.intrinsic+json": {
              "type": "dataframe",
              "variable_name": "train_df"
            },
            "text/html": [
              "\n",
              "  <div id=\"df-65b57a4b-66ea-413f-b2ed-f757c3819b01\" class=\"colab-df-container\">\n",
              "    <div>\n",
              "<style scoped>\n",
              "    .dataframe tbody tr th:only-of-type {\n",
              "        vertical-align: middle;\n",
              "    }\n",
              "\n",
              "    .dataframe tbody tr th {\n",
              "        vertical-align: top;\n",
              "    }\n",
              "\n",
              "    .dataframe thead th {\n",
              "        text-align: right;\n",
              "    }\n",
              "</style>\n",
              "<table border=\"1\" class=\"dataframe\">\n",
              "  <thead>\n",
              "    <tr style=\"text-align: right;\">\n",
              "      <th></th>\n",
              "      <th>label</th>\n",
              "      <th>pixel1</th>\n",
              "      <th>pixel2</th>\n",
              "      <th>pixel3</th>\n",
              "      <th>pixel4</th>\n",
              "      <th>pixel5</th>\n",
              "      <th>pixel6</th>\n",
              "      <th>pixel7</th>\n",
              "      <th>pixel8</th>\n",
              "      <th>pixel9</th>\n",
              "      <th>...</th>\n",
              "      <th>pixel775</th>\n",
              "      <th>pixel776</th>\n",
              "      <th>pixel777</th>\n",
              "      <th>pixel778</th>\n",
              "      <th>pixel779</th>\n",
              "      <th>pixel780</th>\n",
              "      <th>pixel781</th>\n",
              "      <th>pixel782</th>\n",
              "      <th>pixel783</th>\n",
              "      <th>pixel784</th>\n",
              "    </tr>\n",
              "  </thead>\n",
              "  <tbody>\n",
              "    <tr>\n",
              "      <th>0</th>\n",
              "      <td>3</td>\n",
              "      <td>107</td>\n",
              "      <td>118</td>\n",
              "      <td>127</td>\n",
              "      <td>134</td>\n",
              "      <td>139</td>\n",
              "      <td>143</td>\n",
              "      <td>146</td>\n",
              "      <td>150</td>\n",
              "      <td>153</td>\n",
              "      <td>...</td>\n",
              "      <td>207</td>\n",
              "      <td>207</td>\n",
              "      <td>207</td>\n",
              "      <td>207</td>\n",
              "      <td>206</td>\n",
              "      <td>206</td>\n",
              "      <td>206</td>\n",
              "      <td>204</td>\n",
              "      <td>203</td>\n",
              "      <td>202</td>\n",
              "    </tr>\n",
              "    <tr>\n",
              "      <th>1</th>\n",
              "      <td>6</td>\n",
              "      <td>155</td>\n",
              "      <td>157</td>\n",
              "      <td>156</td>\n",
              "      <td>156</td>\n",
              "      <td>156</td>\n",
              "      <td>157</td>\n",
              "      <td>156</td>\n",
              "      <td>158</td>\n",
              "      <td>158</td>\n",
              "      <td>...</td>\n",
              "      <td>69</td>\n",
              "      <td>149</td>\n",
              "      <td>128</td>\n",
              "      <td>87</td>\n",
              "      <td>94</td>\n",
              "      <td>163</td>\n",
              "      <td>175</td>\n",
              "      <td>103</td>\n",
              "      <td>135</td>\n",
              "      <td>149</td>\n",
              "    </tr>\n",
              "    <tr>\n",
              "      <th>2</th>\n",
              "      <td>2</td>\n",
              "      <td>187</td>\n",
              "      <td>188</td>\n",
              "      <td>188</td>\n",
              "      <td>187</td>\n",
              "      <td>187</td>\n",
              "      <td>186</td>\n",
              "      <td>187</td>\n",
              "      <td>188</td>\n",
              "      <td>187</td>\n",
              "      <td>...</td>\n",
              "      <td>202</td>\n",
              "      <td>201</td>\n",
              "      <td>200</td>\n",
              "      <td>199</td>\n",
              "      <td>198</td>\n",
              "      <td>199</td>\n",
              "      <td>198</td>\n",
              "      <td>195</td>\n",
              "      <td>194</td>\n",
              "      <td>195</td>\n",
              "    </tr>\n",
              "    <tr>\n",
              "      <th>3</th>\n",
              "      <td>2</td>\n",
              "      <td>211</td>\n",
              "      <td>211</td>\n",
              "      <td>212</td>\n",
              "      <td>212</td>\n",
              "      <td>211</td>\n",
              "      <td>210</td>\n",
              "      <td>211</td>\n",
              "      <td>210</td>\n",
              "      <td>210</td>\n",
              "      <td>...</td>\n",
              "      <td>235</td>\n",
              "      <td>234</td>\n",
              "      <td>233</td>\n",
              "      <td>231</td>\n",
              "      <td>230</td>\n",
              "      <td>226</td>\n",
              "      <td>225</td>\n",
              "      <td>222</td>\n",
              "      <td>229</td>\n",
              "      <td>163</td>\n",
              "    </tr>\n",
              "    <tr>\n",
              "      <th>4</th>\n",
              "      <td>12</td>\n",
              "      <td>164</td>\n",
              "      <td>167</td>\n",
              "      <td>170</td>\n",
              "      <td>172</td>\n",
              "      <td>176</td>\n",
              "      <td>179</td>\n",
              "      <td>180</td>\n",
              "      <td>184</td>\n",
              "      <td>185</td>\n",
              "      <td>...</td>\n",
              "      <td>92</td>\n",
              "      <td>105</td>\n",
              "      <td>105</td>\n",
              "      <td>108</td>\n",
              "      <td>133</td>\n",
              "      <td>163</td>\n",
              "      <td>157</td>\n",
              "      <td>163</td>\n",
              "      <td>164</td>\n",
              "      <td>179</td>\n",
              "    </tr>\n",
              "  </tbody>\n",
              "</table>\n",
              "<p>5 rows × 785 columns</p>\n",
              "</div>\n",
              "    <div class=\"colab-df-buttons\">\n",
              "\n",
              "  <div class=\"colab-df-container\">\n",
              "    <button class=\"colab-df-convert\" onclick=\"convertToInteractive('df-65b57a4b-66ea-413f-b2ed-f757c3819b01')\"\n",
              "            title=\"Convert this dataframe to an interactive table.\"\n",
              "            style=\"display:none;\">\n",
              "\n",
              "  <svg xmlns=\"http://www.w3.org/2000/svg\" height=\"24px\" viewBox=\"0 -960 960 960\">\n",
              "    <path d=\"M120-120v-720h720v720H120Zm60-500h600v-160H180v160Zm220 220h160v-160H400v160Zm0 220h160v-160H400v160ZM180-400h160v-160H180v160Zm440 0h160v-160H620v160ZM180-180h160v-160H180v160Zm440 0h160v-160H620v160Z\"/>\n",
              "  </svg>\n",
              "    </button>\n",
              "\n",
              "  <style>\n",
              "    .colab-df-container {\n",
              "      display:flex;\n",
              "      gap: 12px;\n",
              "    }\n",
              "\n",
              "    .colab-df-convert {\n",
              "      background-color: #E8F0FE;\n",
              "      border: none;\n",
              "      border-radius: 50%;\n",
              "      cursor: pointer;\n",
              "      display: none;\n",
              "      fill: #1967D2;\n",
              "      height: 32px;\n",
              "      padding: 0 0 0 0;\n",
              "      width: 32px;\n",
              "    }\n",
              "\n",
              "    .colab-df-convert:hover {\n",
              "      background-color: #E2EBFA;\n",
              "      box-shadow: 0px 1px 2px rgba(60, 64, 67, 0.3), 0px 1px 3px 1px rgba(60, 64, 67, 0.15);\n",
              "      fill: #174EA6;\n",
              "    }\n",
              "\n",
              "    .colab-df-buttons div {\n",
              "      margin-bottom: 4px;\n",
              "    }\n",
              "\n",
              "    [theme=dark] .colab-df-convert {\n",
              "      background-color: #3B4455;\n",
              "      fill: #D2E3FC;\n",
              "    }\n",
              "\n",
              "    [theme=dark] .colab-df-convert:hover {\n",
              "      background-color: #434B5C;\n",
              "      box-shadow: 0px 1px 3px 1px rgba(0, 0, 0, 0.15);\n",
              "      filter: drop-shadow(0px 1px 2px rgba(0, 0, 0, 0.3));\n",
              "      fill: #FFFFFF;\n",
              "    }\n",
              "  </style>\n",
              "\n",
              "    <script>\n",
              "      const buttonEl =\n",
              "        document.querySelector('#df-65b57a4b-66ea-413f-b2ed-f757c3819b01 button.colab-df-convert');\n",
              "      buttonEl.style.display =\n",
              "        google.colab.kernel.accessAllowed ? 'block' : 'none';\n",
              "\n",
              "      async function convertToInteractive(key) {\n",
              "        const element = document.querySelector('#df-65b57a4b-66ea-413f-b2ed-f757c3819b01');\n",
              "        const dataTable =\n",
              "          await google.colab.kernel.invokeFunction('convertToInteractive',\n",
              "                                                    [key], {});\n",
              "        if (!dataTable) return;\n",
              "\n",
              "        const docLinkHtml = 'Like what you see? Visit the ' +\n",
              "          '<a target=\"_blank\" href=https://colab.research.google.com/notebooks/data_table.ipynb>data table notebook</a>'\n",
              "          + ' to learn more about interactive tables.';\n",
              "        element.innerHTML = '';\n",
              "        dataTable['output_type'] = 'display_data';\n",
              "        await google.colab.output.renderOutput(dataTable, element);\n",
              "        const docLink = document.createElement('div');\n",
              "        docLink.innerHTML = docLinkHtml;\n",
              "        element.appendChild(docLink);\n",
              "      }\n",
              "    </script>\n",
              "  </div>\n",
              "\n",
              "\n",
              "<div id=\"df-20bf16f2-58f4-455a-811f-e25275ee8a05\">\n",
              "  <button class=\"colab-df-quickchart\" onclick=\"quickchart('df-20bf16f2-58f4-455a-811f-e25275ee8a05')\"\n",
              "            title=\"Suggest charts\"\n",
              "            style=\"display:none;\">\n",
              "\n",
              "<svg xmlns=\"http://www.w3.org/2000/svg\" height=\"24px\"viewBox=\"0 0 24 24\"\n",
              "     width=\"24px\">\n",
              "    <g>\n",
              "        <path d=\"M19 3H5c-1.1 0-2 .9-2 2v14c0 1.1.9 2 2 2h14c1.1 0 2-.9 2-2V5c0-1.1-.9-2-2-2zM9 17H7v-7h2v7zm4 0h-2V7h2v10zm4 0h-2v-4h2v4z\"/>\n",
              "    </g>\n",
              "</svg>\n",
              "  </button>\n",
              "\n",
              "<style>\n",
              "  .colab-df-quickchart {\n",
              "      --bg-color: #E8F0FE;\n",
              "      --fill-color: #1967D2;\n",
              "      --hover-bg-color: #E2EBFA;\n",
              "      --hover-fill-color: #174EA6;\n",
              "      --disabled-fill-color: #AAA;\n",
              "      --disabled-bg-color: #DDD;\n",
              "  }\n",
              "\n",
              "  [theme=dark] .colab-df-quickchart {\n",
              "      --bg-color: #3B4455;\n",
              "      --fill-color: #D2E3FC;\n",
              "      --hover-bg-color: #434B5C;\n",
              "      --hover-fill-color: #FFFFFF;\n",
              "      --disabled-bg-color: #3B4455;\n",
              "      --disabled-fill-color: #666;\n",
              "  }\n",
              "\n",
              "  .colab-df-quickchart {\n",
              "    background-color: var(--bg-color);\n",
              "    border: none;\n",
              "    border-radius: 50%;\n",
              "    cursor: pointer;\n",
              "    display: none;\n",
              "    fill: var(--fill-color);\n",
              "    height: 32px;\n",
              "    padding: 0;\n",
              "    width: 32px;\n",
              "  }\n",
              "\n",
              "  .colab-df-quickchart:hover {\n",
              "    background-color: var(--hover-bg-color);\n",
              "    box-shadow: 0 1px 2px rgba(60, 64, 67, 0.3), 0 1px 3px 1px rgba(60, 64, 67, 0.15);\n",
              "    fill: var(--button-hover-fill-color);\n",
              "  }\n",
              "\n",
              "  .colab-df-quickchart-complete:disabled,\n",
              "  .colab-df-quickchart-complete:disabled:hover {\n",
              "    background-color: var(--disabled-bg-color);\n",
              "    fill: var(--disabled-fill-color);\n",
              "    box-shadow: none;\n",
              "  }\n",
              "\n",
              "  .colab-df-spinner {\n",
              "    border: 2px solid var(--fill-color);\n",
              "    border-color: transparent;\n",
              "    border-bottom-color: var(--fill-color);\n",
              "    animation:\n",
              "      spin 1s steps(1) infinite;\n",
              "  }\n",
              "\n",
              "  @keyframes spin {\n",
              "    0% {\n",
              "      border-color: transparent;\n",
              "      border-bottom-color: var(--fill-color);\n",
              "      border-left-color: var(--fill-color);\n",
              "    }\n",
              "    20% {\n",
              "      border-color: transparent;\n",
              "      border-left-color: var(--fill-color);\n",
              "      border-top-color: var(--fill-color);\n",
              "    }\n",
              "    30% {\n",
              "      border-color: transparent;\n",
              "      border-left-color: var(--fill-color);\n",
              "      border-top-color: var(--fill-color);\n",
              "      border-right-color: var(--fill-color);\n",
              "    }\n",
              "    40% {\n",
              "      border-color: transparent;\n",
              "      border-right-color: var(--fill-color);\n",
              "      border-top-color: var(--fill-color);\n",
              "    }\n",
              "    60% {\n",
              "      border-color: transparent;\n",
              "      border-right-color: var(--fill-color);\n",
              "    }\n",
              "    80% {\n",
              "      border-color: transparent;\n",
              "      border-right-color: var(--fill-color);\n",
              "      border-bottom-color: var(--fill-color);\n",
              "    }\n",
              "    90% {\n",
              "      border-color: transparent;\n",
              "      border-bottom-color: var(--fill-color);\n",
              "    }\n",
              "  }\n",
              "</style>\n",
              "\n",
              "  <script>\n",
              "    async function quickchart(key) {\n",
              "      const quickchartButtonEl =\n",
              "        document.querySelector('#' + key + ' button');\n",
              "      quickchartButtonEl.disabled = true;  // To prevent multiple clicks.\n",
              "      quickchartButtonEl.classList.add('colab-df-spinner');\n",
              "      try {\n",
              "        const charts = await google.colab.kernel.invokeFunction(\n",
              "            'suggestCharts', [key], {});\n",
              "      } catch (error) {\n",
              "        console.error('Error during call to suggestCharts:', error);\n",
              "      }\n",
              "      quickchartButtonEl.classList.remove('colab-df-spinner');\n",
              "      quickchartButtonEl.classList.add('colab-df-quickchart-complete');\n",
              "    }\n",
              "    (() => {\n",
              "      let quickchartButtonEl =\n",
              "        document.querySelector('#df-20bf16f2-58f4-455a-811f-e25275ee8a05 button');\n",
              "      quickchartButtonEl.style.display =\n",
              "        google.colab.kernel.accessAllowed ? 'block' : 'none';\n",
              "    })();\n",
              "  </script>\n",
              "</div>\n",
              "\n",
              "    </div>\n",
              "  </div>\n"
            ],
            "text/plain": [
              "   label  pixel1  pixel2  pixel3  pixel4  pixel5  pixel6  pixel7  pixel8  \\\n",
              "0      3     107     118     127     134     139     143     146     150   \n",
              "1      6     155     157     156     156     156     157     156     158   \n",
              "2      2     187     188     188     187     187     186     187     188   \n",
              "3      2     211     211     212     212     211     210     211     210   \n",
              "4     12     164     167     170     172     176     179     180     184   \n",
              "\n",
              "   pixel9  ...  pixel775  pixel776  pixel777  pixel778  pixel779  pixel780  \\\n",
              "0     153  ...       207       207       207       207       206       206   \n",
              "1     158  ...        69       149       128        87        94       163   \n",
              "2     187  ...       202       201       200       199       198       199   \n",
              "3     210  ...       235       234       233       231       230       226   \n",
              "4     185  ...        92       105       105       108       133       163   \n",
              "\n",
              "   pixel781  pixel782  pixel783  pixel784  \n",
              "0       206       204       203       202  \n",
              "1       175       103       135       149  \n",
              "2       198       195       194       195  \n",
              "3       225       222       229       163  \n",
              "4       157       163       164       179  \n",
              "\n",
              "[5 rows x 785 columns]"
            ]
          },
          "execution_count": 3,
          "metadata": {},
          "output_type": "execute_result"
        }
      ],
      "source": [
        "# Printing a sample of 5 records from the training dataset\n",
        "train_df.head()"
      ]
    },
    {
      "cell_type": "markdown",
      "metadata": {
        "id": "QxSxh9qqaEHe"
      },
      "source": [
        "### Preparing matrices with data to train and validate"
      ]
    },
    {
      "cell_type": "code",
      "execution_count": 4,
      "metadata": {
        "colab": {
          "base_uri": "https://localhost:8080/"
        },
        "id": "KUHK5sBpaEHe",
        "outputId": "d4a4d689-ac77-4192-908c-c12c3b8b1b7a"
      },
      "outputs": [
        {
          "name": "stdout",
          "output_type": "stream",
          "text": [
            "<class 'numpy.ndarray'>\n",
            "[[107. 118. 127. ... 204. 203. 202.]\n",
            " [155. 157. 156. ... 103. 135. 149.]\n",
            " [187. 188. 188. ... 195. 194. 195.]\n",
            " ...\n",
            " [174. 174. 174. ... 202. 200. 200.]\n",
            " [177. 181. 184. ...  64.  87.  93.]\n",
            " [179. 180. 180. ... 205. 209. 215.]]\n"
          ]
        }
      ],
      "source": [
        "# Extracting vector of labels (letters in numeric format)\n",
        "y_train = np.array(train_df['label'])\n",
        "y_val = np.array(valid_df['label'])\n",
        "\n",
        "# Remove label column from matrices\n",
        "del train_df['label']\n",
        "del valid_df['label']\n",
        "\n",
        "# Convert pixel values ​​to numpy float32 format\n",
        "x_train = train_df.values.astype(np.float32)\n",
        "x_val = valid_df.values.astype(np.float32)\n",
        "\n",
        "# Printing data type and samples for verification\n",
        "print(type(x_val))\n",
        "print(x_train)"
      ]
    },
    {
      "cell_type": "code",
      "execution_count": 5,
      "metadata": {
        "code_folding": [],
        "id": "tseqdRgkaEHf"
      },
      "outputs": [],
      "source": [
        "def split_val_test(x, y, pct=0.5, shuffle=True):\n",
        "    '''\n",
        "    Splits a dataset into validation and test sets.\n",
        "\n",
        "    Args:\n",
        "    x (array-like): Features or input data.\n",
        "    y (array-like): Labels or target data.\n",
        "    pct (float, optional): Proportion of the data to be assigned to the test set.\n",
        "                           Defaults to 0.5 (i.e., 50% for validation and 50% for test).\n",
        "    shuffle (bool, optional): Indicates whether to shuffle the data before splitting.\n",
        "                              Defaults to True.\n",
        "\n",
        "    Returns:\n",
        "    tuple: Validation and test sets for both features (x) and labels (y).\n",
        "    '''\n",
        "    x_val, x_test, y_val, y_test = train_test_split(x, y, test_size=pct, shuffle=shuffle)\n",
        "    return (x_val, x_test, y_val, y_test)"
      ]
    },
    {
      "cell_type": "code",
      "execution_count": 6,
      "metadata": {
        "id": "ejlKYe0KaEHf"
      },
      "outputs": [],
      "source": [
        "# The validation matrix is split into validation and test datasets with a default margin of 50%.\n",
        "x_val, x_test, y_val, y_test = split_val_test(x_val, y_val, 0.5)"
      ]
    },
    {
      "cell_type": "code",
      "execution_count": 7,
      "metadata": {
        "colab": {
          "base_uri": "https://localhost:8080/"
        },
        "id": "7DYrVdbZaEHg",
        "outputId": "df705403-5b86-4a97-a31b-2531df27517d"
      },
      "outputs": [
        {
          "name": "stdout",
          "output_type": "stream",
          "text": [
            "24\n"
          ]
        }
      ],
      "source": [
        "# A list is created with the English alphabet\n",
        "alphabet=list(string.ascii_lowercase)\n",
        "\n",
        "# Letters with movement are removed from the alphabet list\n",
        "alphabet.remove('j')\n",
        "alphabet.remove('z')\n",
        "\n",
        "# The total size of the alphabet list without the 2 removed letters is printed\n",
        "print(len(alphabet))"
      ]
    },
    {
      "cell_type": "markdown",
      "metadata": {
        "id": "Sv4_Kw0haEHg"
      },
      "source": [
        "### Normalise"
      ]
    },
    {
      "cell_type": "code",
      "execution_count": 8,
      "metadata": {
        "id": "2gHBk4BMmw_8"
      },
      "outputs": [],
      "source": [
        "def normalise(x_mean, x_std, x_data):\n",
        "    \"\"\"\n",
        "    This function applies z-score normalization to the data by subtracting the mean\n",
        "    and dividing by the standard deviation, which scales the data to have a zero mean\n",
        "    and a standard deviation of one.\n",
        "\n",
        "    Args:\n",
        "    x_mean (array-like): Mean of each feature.\n",
        "    x_std (array-like): Standard deviation of each feature.\n",
        "    x_data (array-like): Data to be normalized.\n",
        "\n",
        "    Returns:\n",
        "    array-like: Normalized data.\n",
        "    \"\"\"\n",
        "    return (x_data - x_mean) / x_std"
      ]
    },
    {
      "cell_type": "code",
      "execution_count": 9,
      "metadata": {
        "id": "NadsK4KQm25r"
      },
      "outputs": [],
      "source": [
        "# The mean and standard deviation of the training dataset are calculated\n",
        "x_mean = x_train.mean()\n",
        "x_std = x_train.std()\n",
        "\n",
        "# The training, validation, and test datasets are normalized\n",
        "x_train = normalise(x_mean, x_std, x_train)\n",
        "x_val = normalise(x_mean, x_std, x_val)\n",
        "x_test = normalise(x_mean, x_std, x_test)"
      ]
    },
    {
      "cell_type": "code",
      "execution_count": 10,
      "metadata": {
        "colab": {
          "base_uri": "https://localhost:8080/"
        },
        "id": "JbCoUyDGm3bY",
        "outputId": "5558556d-4361-41fc-a34c-60daf1908239"
      },
      "outputs": [
        {
          "data": {
            "text/plain": [
              "(3.6268384e-06, 0.99999946)"
            ]
          },
          "execution_count": 10,
          "metadata": {},
          "output_type": "execute_result"
        }
      ],
      "source": [
        "# Printing mean and standard deviation for verification\n",
        "x_train.mean(), x_train.std()"
      ]
    },
    {
      "cell_type": "markdown",
      "metadata": {
        "id": "Q6wrJNPAaEHg"
      },
      "source": [
        "### Plot samples"
      ]
    },
    {
      "cell_type": "code",
      "execution_count": 11,
      "metadata": {
        "id": "OJ_oUyqznBCE"
      },
      "outputs": [],
      "source": [
        "def plot_letter(image):\n",
        "    \"\"\"\n",
        "    Displays a 28x28 pixel grayscale image\n",
        "\n",
        "    Args:\n",
        "    image (array-like): 28x28 pixel image to display\n",
        "\n",
        "    Returns:\n",
        "    None. Displays the image in a graphical window\n",
        "    \"\"\"\n",
        "    plt.figure(figsize=(5,5))\n",
        "    plt.imshow(image, cmap=plt.get_cmap('gray'))\n",
        "    plt.axis('off')\n",
        "    plt.show()"
      ]
    },
    {
      "cell_type": "code",
      "execution_count": 12,
      "metadata": {
        "colab": {
          "base_uri": "https://localhost:8080/",
          "height": 440
        },
        "id": "puJhL1-anGs2",
        "outputId": "a05b69c5-feb8-4d48-d37e-63f767cf13e3"
      },
      "outputs": [
        {
          "name": "stdout",
          "output_type": "stream",
          "text": [
            "The sample image represent letter: o\n"
          ]
        },
        {
          "data": {
            "image/png": "[encoded data removed]",
            "text/plain": [
              "<Figure size 500x500 with 1 Axes>"
            ]
          },
          "metadata": {},
          "output_type": "display_data"
        }
      ],
      "source": [
        "# A random index is generated between 0 and the total number of elements in the dataset\n",
        "rnd_idx = np.random.randint(len(y_test))\n",
        "\n",
        "# The pixel values are extracted (columns from pixel1 to pixel784)\n",
        "image_pixels = x_test[rnd_idx]\n",
        "# The vector of pixels is reshaped into a 28x28 matrix\n",
        "image_reshaped = image_pixels.reshape(28, 28)\n",
        "\n",
        "# The letter corresponding to the randomly selected image is retrieved using the same index\n",
        "letter = alphabet[y_test[rnd_idx]]\n",
        "# The selected letter and image are printed\n",
        "print(f'The sample image represent letter: {letter}')\n",
        "plot_letter(image_reshaped)"
      ]
    },
    {
      "cell_type": "markdown",
      "metadata": {
        "id": "i5hpRoacaEHg"
      },
      "source": [
        "### Equations for our model\n",
        "\n",
        "\n",
        "$$z^1 = W^1 X + b^1$$\n",
        "\n",
        "$$a^1 = ReLU(z^1) $$\n",
        "\n",
        "$$z^2 = W^2 a^1 + b^2$$\n",
        "\n",
        "$$\\hat{y} = \\frac{e^{z^{2_k}}}{\\sum_j{e^{z_j}}}$$\n",
        "\n",
        "\n",
        "$$ \\mathcal{L}(\\hat{y}^{i}, y^{i}) =  - y^{i}  \\ln(\\hat{y}^{i}) = -\\ln(\\hat{y}^i)$$\n",
        "\n",
        "\n",
        "$$ \\mathcal{J}(w, b) =  \\frac{1}{num\\_samples} \\sum_{i=1}^{num\\_samples}-\\ln(\\hat{y}^{i})$$"
      ]
    },
    {
      "cell_type": "markdown",
      "metadata": {
        "id": "eOpWcu5aaEHh"
      },
      "source": [
        "# Additional functions"
      ]
    },
    {
      "cell_type": "markdown",
      "metadata": {
        "id": "iaq5mfJdaEHh"
      },
      "source": [
        "#### Mini batches"
      ]
    },
    {
      "cell_type": "code",
      "execution_count": 13,
      "metadata": {
        "id": "8wqZoT--aEHh"
      },
      "outputs": [],
      "source": [
        "#This function receives three parameters, leaving shuffle as True\n",
        "def create_minibatches(mb_size, x, y, shuffle = True):\n",
        "    #First it uses two parameters x and y to check if the 0 dimensions of the matrices x and y are equal\n",
        "    assert x.shape[0] == y.shape[0], 'Error sample length'\n",
        "    #The row dimension of x is saved\n",
        "    total_data = x.shape[0]\n",
        "    # It is verified if this function is activated to randomly share data from the batch created previously\n",
        "    if shuffle:\n",
        "        # An array of size total_data is created, that is, the number of rows of x\n",
        "        idxs = np.arange(total_data)\n",
        "        # A random number is taken from 0 to the size of x\n",
        "        np.random.shuffle(idxs)\n",
        "        # The values ​​that were in x and y are loaded into x and y from their index\n",
        "        x = x[idxs]\n",
        "        y = y[idxs]\n",
        "    # Returns the array of randomly chosen images with their labels\n",
        "    return ((x[i:i+mb_size], y[i:i+mb_size]) for i in range(0, total_data, mb_size))"
      ]
    },
    {
      "cell_type": "code",
      "execution_count": 14,
      "metadata": {
        "id": "2OQr56f1aEHh"
      },
      "outputs": [],
      "source": [
        "class np_tensor(np.ndarray):\n",
        "    \"\"\"\n",
        "    This class inherits directly from np.ndarray, allowing you to create custom tensors\n",
        "    with all the properties and methods of the NumPy array.\n",
        "    \"\"\"\n",
        "    pass"
      ]
    },
    {
      "cell_type": "markdown",
      "metadata": {
        "id": "fk1N0RQXaEHh"
      },
      "source": [
        "## Our Linear, ReLU and Sequential classes"
      ]
    },
    {
      "cell_type": "markdown",
      "metadata": {
        "id": "DbqYUfWyaEHh"
      },
      "source": [
        "###  Linear Class"
      ]
    },
    {
      "cell_type": "markdown",
      "metadata": {
        "id": "NOg2ufCUMppi"
      },
      "source": [
        "[![](linear.jpeg)](linear.jpeg \"Linear Class\")\n",
        "\n",
        "> Example of operations performed within a Linear Class"
      ]
    },
    {
      "cell_type": "code",
      "execution_count": 15,
      "metadata": {
        "id": "W3TaR07QR30q"
      },
      "outputs": [],
      "source": [
        "class Linear():\n",
        "    def __init__(self, input_size, output_size):\n",
        "        '''\n",
        "          Initializes the parameters W (weights) and b (bias) using Kaiming He initialization,\n",
        "          which is appropriate for deep networks with ReLU activations\n",
        "\n",
        "          Args:\n",
        "          input_size (int): Input dimension\n",
        "          output_size (int): Output dimension\n",
        "\n",
        "          W (np_tensor): Weight matrix, of size (output_size, input_size)\n",
        "          b (np_tensor): Bias vector, of size (output_size, 1)\n",
        "        '''\n",
        "        # Random values ​​are assigned to the weights\n",
        "        self.W = (np.random.randn(output_size, input_size) / np.sqrt(input_size/2)).view(np_tensor)\n",
        "        # Zero values ​​are assigned to all neuron biases\n",
        "        self.b = (np.zeros((output_size, 1))).view(np_tensor)\n",
        "    # This class will be called automatically when the Linear class is called\n",
        "    def __call__(self, X):\n",
        "        '''\n",
        "        Performs the forward operation on a linear layer\n",
        "\n",
        "        Args:\n",
        "        X (np_tensor): Input of the layer, of size (input_size, n_samples)\n",
        "\n",
        "        Returns:\n",
        "        np_tensor: The result of the linear operation Z = W @ X + b\n",
        "        '''\n",
        "        # This operation will be performed and will be the output result of each neuron\n",
        "        Z = self.W @ X + self.b\n",
        "        return Z\n",
        "\n",
        "    def backward(self, X, Z):\n",
        "        '''\n",
        "        Calculates the gradients of the parameters W, b and X during backpropagation\n",
        "\n",
        "        Args:\n",
        "        X (np_tensor): Input of the layer.\n",
        "        Z (np_tensor): Output of the layer (resulting from the forward operation)\n",
        "        '''\n",
        "\n",
        "        X.grad = self.W.T @ Z.grad # Gradient with respect to the input\n",
        "        self.W.grad = Z.grad @ X.T  # Gradient with respect to the weights W\n",
        "        self.b.grad = np.sum(Z.grad, axis = 1, keepdims=True) # Gradient with respect to the bias b\n"
      ]
    },
    {
      "cell_type": "markdown",
      "metadata": {
        "id": "A6m8tZ0gaEHh"
      },
      "source": [
        "### ReLU Class"
      ]
    },
    {
      "cell_type": "markdown",
      "metadata": {
        "id": "iONZ8wPNMppj"
      },
      "source": [
        "[![](relu.jpeg)](relu.jpeg \"ReLU Class\")\n",
        "\n",
        "> Graphical representation of the output of the ReLU Class"
      ]
    },
    {
      "cell_type": "code",
      "execution_count": 16,
      "metadata": {
        "id": "i2MV5aLNR6iF"
      },
      "outputs": [],
      "source": [
        "class ReLU():\n",
        "    def __call__(self, Z):\n",
        "        '''\n",
        "        Applies the ReLU (Rectified Linear Unit) activation function, which returns\n",
        "        the maximum value between 0 and the input value\n",
        "\n",
        "        Args:\n",
        "        Z (np_tensor): Input to the activation function\n",
        "\n",
        "        Returns:\n",
        "        np_tensor: Output activated by ReLU (negative values ​​are replaced by 0)\n",
        "        '''\n",
        "        return np.maximum(0, Z)\n",
        "\n",
        "    def backward(self, Z, A):\n",
        "        '''\n",
        "        Calculates the gradient of the ReLU function during backpropagation\n",
        "\n",
        "        Args:\n",
        "        Z (np_tensor): Original input before activation\n",
        "        A (np_tensor): Activated output\n",
        "        '''\n",
        "        Z.grad = A.grad.copy()\n",
        "        Z.grad[Z <= 0] = 0\n"
      ]
    },
    {
      "cell_type": "markdown",
      "metadata": {
        "id": "kDHB2y67aEHh"
      },
      "source": [
        "### Sequential Class"
      ]
    },
    {
      "cell_type": "markdown",
      "metadata": {
        "id": "Q1VMjhSLMppj"
      },
      "source": [
        "[![](sequential.jpeg)](sequential.jpeg \"Sequential Class\")\n",
        "\n",
        "> Representation of connection between the layers of a Sequential Neural Network"
      ]
    },
    {
      "cell_type": "code",
      "execution_count": 17,
      "metadata": {
        "id": "8vs_BNj7R9KR"
      },
      "outputs": [],
      "source": [
        "class Sequential_layers():\n",
        "    def __init__(self, layers):\n",
        "        '''\n",
        "        Initializes the model's layer sequence\n",
        "\n",
        "        Args:\n",
        "        layers (list): List of layers, including instances of the Linear and ReLU classes\n",
        "        '''\n",
        "        self.layers = layers\n",
        "        self.x = None\n",
        "        self.outputs = {}\n",
        "\n",
        "    def __call__(self, X):\n",
        "        '''\n",
        "        Execute the forward pass through all layers of the model\n",
        "\n",
        "        Args:\n",
        "        X (np_tensor): Initial input to the model\n",
        "\n",
        "        Returns:\n",
        "        np_tensor: Final output after passing through all layers\n",
        "        '''\n",
        "        self.x = X # The input x is assigned to the attribute self\n",
        "        self.outputs['l0'] = self.x # It is stored in the following dictionary with the key l0 to store the input elements\n",
        "        for i, layer in enumerate(self.layers, 1):\n",
        "            self.x = layer(self.x)  # The data of each layer of self.x is temporarily saved in self.x\n",
        "            self.outputs['l'+str(i)]=self.x  # The elements of each iteration are saved in the outputs dictionary\n",
        "        return self.x  # The last value of self.x is returned\n",
        "\n",
        "    def backward(self):\n",
        "        '''\n",
        "        Performs backward pass through all layers\n",
        "        Calculates the gradients of each layer in reverse order\n",
        "        '''\n",
        "        for i in reversed(range(len(self.layers))):\n",
        "            self.layers[i].backward(self.outputs['l'+str(i)], self.outputs['l'+str(i+1)])\n",
        "\n",
        "    def update(self, learning_rate = 1e-3):\n",
        "        '''\n",
        "        Updates parameters (weights and bias) of linear layers using gradient descent\n",
        "\n",
        "        Args:\n",
        "        learning_rate (float): Learning rate for parameter update\n",
        "        '''\n",
        "        for layer in self.layers:\n",
        "            if isinstance(layer, ReLU): continue\n",
        "            layer.W = layer.W - learning_rate * layer.W.grad\n",
        "            layer.b = layer.b - learning_rate * layer.b.grad\n",
        "\n",
        "    def predict(self, X):\n",
        "        '''\n",
        "        Makes a prediction by passing data through the model\n",
        "\n",
        "        Args:\n",
        "        X (np_tensor): Input data\n",
        "\n",
        "        Returns:\n",
        "        int: Index of the predicted class (the one with the highest probability)\n",
        "        '''\n",
        "        return np.argmax(self.__call__(X))"
      ]
    },
    {
      "cell_type": "markdown",
      "metadata": {
        "id": "HUkFOTDUaEHh"
      },
      "source": [
        "### Cost Function"
      ]
    },
    {
      "cell_type": "markdown",
      "metadata": {
        "id": "PII4hTcjMppk"
      },
      "source": [
        "[![](softmax.jpeg)](softmax.jpeg \"Softmax Class\")\n",
        "\n",
        "> Example of connection between Layers and the Softmax function"
      ]
    },
    {
      "cell_type": "code",
      "execution_count": 18,
      "metadata": {
        "id": "xaLghjTwR_jq"
      },
      "outputs": [],
      "source": [
        "def softmaxXEntropy(x, y):\n",
        "    \"\"\"\n",
        "    Computes the softmax cross-entropy cost and corresponding gradients\n",
        "\n",
        "    Args:\n",
        "    x (np_tensor): Model output (class scores), of size (n_classes, batch_size)\n",
        "    y (np_tensor): True labels (classes) of size (1, batch_size)\n",
        "\n",
        "    Returns:\n",
        "    tuple:\n",
        "        preds (np_tensor): Predicted probabilities after applying softmax\n",
        "        cost (float): Cross-entropy cost\n",
        "    \"\"\"\n",
        "\n",
        "    batch_size = x.shape[1] # The size of the vectors is received, i.e. the columns in x\n",
        "    exp_scores = np.exp(x) # The exponentials of x are calculated\n",
        "    probs = exp_scores / exp_scores.sum(axis = 0)  # The probabilities are calculated with this function\n",
        "    preds = probs.copy()  # Preds is created only to save the data since probs is modified\n",
        "    # Cross-entropy cost\n",
        "    y_hat = probs[y.squeeze(), np.arange(batch_size)]  # The cost is calculated and saved in y_hat\n",
        "    cost = np.sum(-np.log(y_hat)) / batch_size # The costs of each class that needs to be analyzed are calculated\n",
        "\n",
        "    # Gradient with respect to the input x\n",
        "    probs[y.squeeze(), np.arange(batch_size)] -= 1 #dl/dx - Probs is modified to keep only the values ​​of the correct classes\n",
        "    x.grad = probs.copy() # The gradients are saved in x since probs has these gradients\n",
        "\n",
        "    return preds, cost # The probabilities and cost are returned"
      ]
    },
    {
      "cell_type": "markdown",
      "metadata": {
        "id": "qSV3SZqXaEHi"
      },
      "source": [
        "### Training Loop"
      ]
    },
    {
      "cell_type": "markdown",
      "metadata": {
        "id": "vJjS5TvraEHi"
      },
      "source": [
        "### Create your model and train it"
      ]
    },
    {
      "cell_type": "code",
      "execution_count": 19,
      "metadata": {
        "id": "53RG62vBaEHi"
      },
      "outputs": [],
      "source": [
        "def train(model, epochs, mb_size=128, learning_rate = 1e-3):\n",
        "    \"\"\"\n",
        "    Train the model using the minibatch gradient descent algorithm\n",
        "\n",
        "    Args:\n",
        "    model (Sequential_layers): The model to train\n",
        "    epochs (int): Number of training epochs\n",
        "    mb_size (int, optional): Minibatch size. Default is 128\n",
        "    learning_rate (float, optional): Learning rate for parameter update. Default is 1e-3\n",
        "    \"\"\"\n",
        "    for epoch in range(epochs):\n",
        "        for i, (x, y) in enumerate(create_minibatches(mb_size, x_train, y_train)):\n",
        "            # Calculate each x and y of the minibatches one by one and enter them into scores,\n",
        "            # Save as np_tensor to be able to save the gradient within x\n",
        "            scores = model(x.T.view(np_tensor))\n",
        "            _, cost = softmaxXEntropy(scores, y) # Calculate the cost using the softmax function\n",
        "            # Run the backward function to run within each layer\n",
        "            model.backward()\n",
        "            # And finally the w and b are updated\n",
        "            model.update(learning_rate)\n",
        "        print(f'Cost: {cost}, Accuracy: {accuracy(x_val, y_val, mb_size)}')"
      ]
    },
    {
      "cell_type": "code",
      "execution_count": 20,
      "metadata": {
        "id": "JIfofJujVeVY"
      },
      "outputs": [],
      "source": [
        "def accuracy(x, y, mb_size):\n",
        "    \"\"\"\n",
        "    Calculates the accuracy of the model on the validation set\n",
        "\n",
        "    Args:\n",
        "    x (np_tensor): Feature set\n",
        "    y (np_tensor): True labels\n",
        "    mb_size (int): Mini-batch size\n",
        "\n",
        "    Returns:\n",
        "    float: Model accuracy\n",
        "    \"\"\"\n",
        "    correct = 0\n",
        "    total = 0\n",
        "    for i, (x, y) in enumerate(create_minibatches(mb_size, x, y)):\n",
        "        pred = model(x.T.view(np_tensor))\n",
        "        correct += np.sum(np.argmax(pred, axis=0) == y.squeeze())\n",
        "        total += pred.shape[1]\n",
        "    return correct/total"
      ]
    },
    {
      "cell_type": "code",
      "execution_count": 29,
      "metadata": {
        "colab": {
          "base_uri": "https://localhost:8080/"
        },
        "id": "u0D96PNqScSO",
        "outputId": "22353d6d-ed17-4153-a893-59637d3f2af5"
      },
      "outputs": [
        {
          "name": "stdout",
          "output_type": "stream",
          "text": [
            "Cost: 0.10931579278873094, Accuracy: 0.7543223647518126\n",
            "Cost: 0.043636839996971925, Accuracy: 0.7727272727272727\n",
            "Cost: 0.024682985832159898, Accuracy: 0.771611823759063\n",
            "Cost: 0.016554170219485576, Accuracy: 0.775515895147797\n",
            "Cost: 0.011318439630509268, Accuracy: 0.7707752370329057\n",
            "Cost: 0.009424359646832067, Accuracy: 0.7732849972113776\n",
            "Cost: 0.00894280829228269, Accuracy: 0.7744004461795873\n",
            "Cost: 0.006855410087084546, Accuracy: 0.7727272727272727\n",
            "Cost: 0.005643487552898514, Accuracy: 0.77356385945343\n",
            "Cost: 0.004657971858240106, Accuracy: 0.7718906860011154\n",
            "Cost: 0.003912993177806838, Accuracy: 0.7752370329057445\n",
            "Cost: 0.0030165679697723743, Accuracy: 0.7741215839375348\n",
            "Cost: 0.004858210144158119, Accuracy: 0.775515895147797\n",
            "Cost: 0.0038950565375791618, Accuracy: 0.7752370329057445\n",
            "Cost: 0.003442263191805359, Accuracy: 0.7760736196319018\n",
            "Cost: 0.002396324561960895, Accuracy: 0.7769102063580591\n",
            "Cost: 0.0015654679905335196, Accuracy: 0.7783045175683212\n",
            "Cost: 0.0033555149598858587, Accuracy: 0.7780256553262688\n",
            "Cost: 0.0020356763775225394, Accuracy: 0.7774679308421639\n",
            "Cost: 0.0017647157741187331, Accuracy: 0.7791411042944786\n"
          ]
        }
      ],
      "source": [
        "# The model is declared with a layer with 784 inputs and 300 outputs, a ReLU activation function and another final layer with 300 inputs and 24 outputs\n",
        "# This simple model will allow us with 1 hidden layer to have a high precision in the output, the calculation of gradients will not be magnified by having few layers\n",
        "# The 24 output neurons correspond to the 24 different classes of the alphabet available to classify.\n",
        "model = Sequential_layers([Linear(784, 300), ReLU(), Linear(300, 24)])\n",
        "\n",
        "# The size of the minibatches is declared\n",
        "mb_size = 256\n",
        "\n",
        "# The learning_rate is defined\n",
        "learning_rate = 1e-3\n",
        "\n",
        "# The total number of epochs to iterate is defined\n",
        "epochs = 20\n",
        "\n",
        "# The previously declared training function is executed\n",
        "train(model, epochs, mb_size, learning_rate)"
      ]
    },
    {
      "cell_type": "markdown",
      "metadata": {
        "id": "PwcMEETTaEHi"
      },
      "source": [
        "### Testing model with Random data from the test dataset"
      ]
    },
    {
      "cell_type": "code",
      "execution_count": 30,
      "metadata": {
        "colab": {
          "base_uri": "https://localhost:8080/",
          "height": 458
        },
        "id": "wLl4mDpraEHi",
        "outputId": "2d41336a-6c3c-47e1-abac-fc31314f2621"
      },
      "outputs": [
        {
          "data": {
            "image/png": "[encoded data removed]",
            "text/plain": [
              "<Figure size 500x500 with 1 Axes>"
            ]
          },
          "metadata": {},
          "output_type": "display_data"
        },
        {
          "name": "stdout",
          "output_type": "stream",
          "text": [
            "Predicted value is: q\n",
            "Real value is: q\n"
          ]
        }
      ],
      "source": [
        "# A random index is created again, the image is printed, its real value defined in the data set and the value that is predicted with the previously trained model\n",
        "idx = np.random.randint(len(y_test))\n",
        "plot_letter(x_test[idx].reshape(28,28))\n",
        "pred = model.predict(x_test[idx].reshape(-1, 1))\n",
        "print(f'Predicted value is: {alphabet[pred]}')\n",
        "print(f'Real value is: {alphabet[y_test[idx]]}')"
      ]
    }
  ],
  "metadata": {
    "accelerator": "GPU",
    "colab": {
      "gpuType": "T4",
      "provenance": []
    },
    "kernelspec": {
      "display_name": "Python 3",
      "name": "python3"
    },
    "language_info": {
      "codemirror_mode": {
        "name": "ipython",
        "version": 3
      },
      "file_extension": ".py",
      "mimetype": "text/x-python",
      "name": "python",
      "nbconvert_exporter": "python",
      "pygments_lexer": "ipython3",
      "version": "3.9.0"
    },
    "toc": {
      "base_numbering": 1,
      "nav_menu": {},
      "number_sections": true,
      "sideBar": true,
      "skip_h1_title": false,
      "title_cell": "Table of Contents",
      "title_sidebar": "Contents",
      "toc_cell": false,
      "toc_position": {},
      "toc_section_display": true,
      "toc_window_display": false
    },
    "varInspector": {
      "cols": {
        "lenName": 16,
        "lenType": 16,
        "lenVar": 40
      },
      "kernels_config": {
        "python": {
          "delete_cmd_postfix": "",
          "delete_cmd_prefix": "del ",
          "library": "var_list.py",
          "varRefreshCmd": "print(var_dic_list())"
        },
        "r": {
          "delete_cmd_postfix": ") ",
          "delete_cmd_prefix": "rm(",
          "library": "var_list.r",
          "varRefreshCmd": "cat(var_dic_list()) "
        }
      },
      "types_to_exclude": [
        "module",
        "function",
        "builtin_function_or_method",
        "instance",
        "_Feature"
      ],
      "window_display": false
    }
  },
  "nbformat": 4,
  "nbformat_minor": 0
}
