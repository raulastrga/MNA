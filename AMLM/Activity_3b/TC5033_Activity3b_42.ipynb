{
 "cells": [
  {
   "cell_type": "markdown",
   "id": "940c6dbc",
   "metadata": {},
   "source": [
    "## TC 5033\n",
    "### Word Embeddings\n",
    "\n",
    "<br>\n",
    "\n",
    "#### Activity 3b: Text Classification using RNNs and AG_NEWS dataset in PyTorch\n",
    "<br>\n",
    "\n",
    "- Objective:\n",
    "    - Understand the basics of Recurrent Neural Networks (RNNs) and their application in text classification.\n",
    "    - Learn how to handle a real-world text dataset, AG_NEWS, in PyTorch.\n",
    "    - Gain hands-on experience in defining, training, and evaluating a text classification model in PyTorch.\n",
    "    \n",
    "<br>\n",
    "\n",
    "- Instructions:\n",
    "    - Data Preparation: Starter code will be provided that loads the AG_NEWS dataset and prepares it for training. Do not modify this part. However, you should be sure to understand it, and comment it, the use of markdown cells is suggested. \n",
    "\n",
    "    - Model Setup: A skeleton code for the RNN model class will be provided. Complete this class and use it to instantiate your model.\n",
    "\n",
    "    - Implementing Accuracy Function: Write a function that takes model predictions and ground truth labels as input and returns the model's accuracy.\n",
    "\n",
    "    - Training Function: Implement a function that performs training on the given model using the AG_NEWS dataset. Your model should achieve an accuracy of at least 80% to get full marks for this part.\n",
    "\n",
    "    - Text Sampling: Write a function that takes a sample text as input and classifies it using your trained model.\n",
    "\n",
    "    - Confusion Matrix: Implement a function to display the confusion matrix for your model on the test data.\n",
    "\n",
    "    - Submission: Submit your completed Jupyter Notebook. Make sure to include a markdown cell at the beginning of the notebook that lists the names of all team members. Teams should consist of 3 to 4 members.\n",
    "    \n",
    "<br>\n",
    "\n",
    "- Evaluation Criteria:\n",
    "\n",
    "    - Correct setup of all the required libraries and modules (10%)\n",
    "    - Code Quality (30%): Your code should be well-organized, clearly commented, and easy to follow. Use also markdown cells for clarity. Comments should be given for all the provided code, this will help you understand its functionality.\n",
    "    \n",
    "   - Functionality (60%): \n",
    "        - All the functions should execute without errors and provide the expected outputs.\n",
    "        - RNN model class (20%)\n",
    "        - Accuracy fucntion (10%)\n",
    "        - Training function (10%)\n",
    "        - Sampling function (10%)\n",
    "        - Confucion matrix (10%)\n",
    "\n",
    "        - The model should achieve at least an 80% accuracy on the AG_NEWS test set for full marks in this criterion.\n"
   ]
  },
  {
   "cell_type": "markdown",
   "id": "4de318da",
   "metadata": {},
   "source": [
    "Dataset\n",
    "\n",
    "https://pytorch.org/text/stable/datasets.html#text-classification\n",
    "\n",
    "https://paperswithcode.com/dataset/ag-news\n"
   ]
  },
  {
   "cell_type": "markdown",
   "id": "4a9801f9",
   "metadata": {},
   "source": [
    "### Import libraries"
   ]
  },
  {
   "cell_type": "code",
   "execution_count": 1,
   "id": "54394f53",
   "metadata": {},
   "outputs": [],
   "source": [
    "# conda install -c pytorch torchtext\n",
    "# conda install -c pytorch torchdata\n",
    "# conda install pytorch torchvision torchaudio cudatoolkit=10.2 -c pytorch"
   ]
  },
  {
   "cell_type": "code",
   "execution_count": 2,
   "id": "878b524f",
   "metadata": {},
   "outputs": [
    {
     "name": "stderr",
     "output_type": "stream",
     "text": [
      "C:\\Users\\edson\\anaconda3\\Lib\\site-packages\\torchtext\\datasets\\__init__.py:4: UserWarning: \n",
      "/!\\ IMPORTANT WARNING ABOUT TORCHTEXT STATUS /!\\ \n",
      "Torchtext is deprecated and the last released version will be 0.18 (this one). You can silence this warning by calling the following at the beginnign of your scripts: `import torchtext; torchtext.disable_torchtext_deprecation_warning()`\n",
      "  warnings.warn(torchtext._TORCHTEXT_DEPRECATION_MSG)\n",
      "C:\\Users\\edson\\anaconda3\\Lib\\site-packages\\torchtext\\data\\__init__.py:4: UserWarning: \n",
      "/!\\ IMPORTANT WARNING ABOUT TORCHTEXT STATUS /!\\ \n",
      "Torchtext is deprecated and the last released version will be 0.18 (this one). You can silence this warning by calling the following at the beginnign of your scripts: `import torchtext; torchtext.disable_torchtext_deprecation_warning()`\n",
      "  warnings.warn(torchtext._TORCHTEXT_DEPRECATION_MSG)\n",
      "C:\\Users\\edson\\anaconda3\\Lib\\site-packages\\torchtext\\vocab\\__init__.py:4: UserWarning: \n",
      "/!\\ IMPORTANT WARNING ABOUT TORCHTEXT STATUS /!\\ \n",
      "Torchtext is deprecated and the last released version will be 0.18 (this one). You can silence this warning by calling the following at the beginnign of your scripts: `import torchtext; torchtext.disable_torchtext_deprecation_warning()`\n",
      "  warnings.warn(torchtext._TORCHTEXT_DEPRECATION_MSG)\n",
      "C:\\Users\\edson\\anaconda3\\Lib\\site-packages\\torchtext\\utils.py:4: UserWarning: \n",
      "/!\\ IMPORTANT WARNING ABOUT TORCHTEXT STATUS /!\\ \n",
      "Torchtext is deprecated and the last released version will be 0.18 (this one). You can silence this warning by calling the following at the beginnign of your scripts: `import torchtext; torchtext.disable_torchtext_deprecation_warning()`\n",
      "  warnings.warn(torchtext._TORCHTEXT_DEPRECATION_MSG)\n"
     ]
    }
   ],
   "source": [
    "# The following libraries are required for running the given code\n",
    "# Please feel free to add any libraries you consider adecuate to complete the assingment.\n",
    "import numpy as np\n",
    "#PyTorch libraries\n",
    "import torch\n",
    "from torchtext.datasets import AG_NEWS\n",
    "# Dataloader library\n",
    "from torch.utils.data import DataLoader\n",
    "from torch.utils.data.dataset import random_split\n",
    "# Libraries to prepare the data\n",
    "from torchtext.data.utils import get_tokenizer\n",
    "from torchtext.vocab import build_vocab_from_iterator\n",
    "from torchtext.data.functional import to_map_style_dataset\n",
    "# neural layers\n",
    "from torch import nn\n",
    "from torch.nn import functional as F\n",
    "\n",
    "# These libraries are suggested to< plot confusion matrix\n",
    "# you may use others\n",
    "import scikitplot as skplt\n",
    "import gc"
   ]
  },
  {
   "cell_type": "markdown",
   "id": "1aed2180",
   "metadata": {},
   "source": [
    "## Using GPU"
   ]
  },
  {
   "cell_type": "code",
   "execution_count": null,
   "id": "3bab55f3",
   "metadata": {
    "scrolled": true
   },
   "outputs": [
    {
     "name": "stdout",
     "output_type": "stream",
     "text": [
      "cuda\n"
     ]
    }
   ],
   "source": [
    "if torch.cuda.is_available():\n",
    "    device = torch.device('cuda') # GPU will be used if available\n",
    "elif torch.backends.mps.is_available():\n",
    "    device = torch.device('mps') # GPU will be used in Apple Silicon Macs if available\n",
    "else:\n",
    "    device = torch.device('cpu') # CPU will be used if GPU is not available\n",
    "print(device)"
   ]
  },
  {
   "cell_type": "markdown",
   "id": "3d38956d",
   "metadata": {},
   "source": [
    "### Get the train and the test datasets and dataloaders"
   ]
  },
  {
   "cell_type": "markdown",
   "id": "e9c6b784",
   "metadata": {},
   "source": [
    "Classes:\n",
    "\n",
    "* 1 - World\n",
    "\n",
    "* 2 - Sports\n",
    "\n",
    "* 3 - Business\n",
    "\n",
    "* 4 - Sci/Tech\n",
    "\n",
    "We will convert them to:\n",
    "\n",
    "* 0 - World\n",
    "\n",
    "* 1 - Sports\n",
    "\n",
    "* 2 - Business\n",
    "\n",
    "* 3 - Sci/Tech"
   ]
  },
  {
   "cell_type": "code",
   "execution_count": null,
   "id": "49fbed19",
   "metadata": {
    "scrolled": true
   },
   "outputs": [
    {
     "name": "stderr",
     "output_type": "stream",
     "text": [
      "C:\\Users\\edson\\anaconda3\\Lib\\site-packages\\torchdata\\datapipes\\__init__.py:18: UserWarning: \n",
      "################################################################################\n",
      "WARNING!\n",
      "The 'datapipes', 'dataloader2' modules are deprecated and will be removed in a\n",
      "future torchdata release! Please see https://github.com/pytorch/data/issues/1196\n",
      "to learn more and leave feedback.\n",
      "################################################################################\n",
      "\n",
      "  deprecation_warning()\n"
     ]
    }
   ],
   "source": [
    "\"\"\"\n",
    "Train and Test sets are created with data of the AG_NEWS\n",
    "\n",
    "\"\"\"\n",
    "\n",
    "train_dataset, test_dataset = AG_NEWS() #Loads the AG_NEWS dataset into train and test sets\n",
    "train_dataset, test_dataset = to_map_style_dataset(train_dataset), to_map_style_dataset(test_dataset) #Here we converts the datasets to a dict format"
   ]
  },
  {
   "cell_type": "code",
   "execution_count": null,
   "id": "9c372eb9",
   "metadata": {},
   "outputs": [],
   "source": [
    "\"\"\"\n",
    "yield_tokens function iterates through the dataset and generate tokenized text\n",
    "using the tokenizer\n",
    "\"\"\"\n",
    "\n",
    "\n",
    "# Get the tokeniser\n",
    "# tokeniser object\n",
    "tokeniser = get_tokenizer('basic_english')\n",
    "\n",
    "def yield_tokens(data):\n",
    "    for _, text in data:\n",
    "        yield tokeniser(text)"
   ]
  },
  {
   "cell_type": "code",
   "execution_count": null,
   "id": "794d0375",
   "metadata": {},
   "outputs": [],
   "source": [
    "\"\"\"\n",
    "build_vocab_from_iterator buils a vocavulary from the training data tokens,\n",
    "also the special \"<unk>\" token from unknown words set at index 0\n",
    "\"\"\"\n",
    "\n",
    "# Build the vocabulary\n",
    "vocab = build_vocab_from_iterator(yield_tokens(train_dataset), specials=[\"<unk>\"])\n",
    "#set unknown token at position 0\n",
    "vocab.set_default_index(vocab[\"<unk>\"])"
   ]
  },
  {
   "cell_type": "code",
   "execution_count": null,
   "id": "b48268d4",
   "metadata": {},
   "outputs": [
    {
     "name": "stdout",
     "output_type": "stream",
     "text": [
      "['welcome', 'to', 'te3007'] [3314, 4, 0]\n"
     ]
    }
   ],
   "source": [
    "\"\"\"\n",
    "Here we test the tokenization\n",
    "\"\"\"\n",
    "\n",
    "#test tokens\n",
    "tokens = tokeniser('Welcome to TE3007')\n",
    "print(tokens, vocab(tokens))"
   ]
  },
  {
   "cell_type": "code",
   "execution_count": null,
   "id": "c8c8f6a6",
   "metadata": {},
   "outputs": [],
   "source": [
    "\"\"\"\n",
    "NUM_TRAIN and NUM_VAL contains the number of samples for train and validation\n",
    "\"\"\"\n",
    "\n",
    "NUM_TRAIN = int(len(train_dataset)*0.9)\n",
    "NUM_VAL = len(train_dataset) - NUM_TRAIN"
   ]
  },
  {
   "cell_type": "code",
   "execution_count": null,
   "id": "8290895e",
   "metadata": {},
   "outputs": [],
   "source": [
    "\"\"\"\n",
    "Then we splits dataset into traning dataset into training and validation sets \n",
    "with the privous NUM_TRAIN and NUM_VAL\n",
    "\"\"\"\n",
    "\n",
    "train_dataset, val_dataset = random_split(train_dataset, [NUM_TRAIN, NUM_VAL])"
   ]
  },
  {
   "cell_type": "code",
   "execution_count": null,
   "id": "cbc75b54",
   "metadata": {},
   "outputs": [
    {
     "name": "stdout",
     "output_type": "stream",
     "text": [
      "108000 12000 7600\n"
     ]
    }
   ],
   "source": [
    "print(len(train_dataset), len(val_dataset), len(test_dataset)) #Prints the lengths of the training, validation, and test datasets"
   ]
  },
  {
   "cell_type": "code",
   "execution_count": null,
   "id": "ffdbf077",
   "metadata": {},
   "outputs": [],
   "source": [
    "\"\"\"\n",
    "collate_batch:\n",
    "\n",
    "Takes a batch of data as imput\n",
    "Extracts labels y and text x from the batch\n",
    "Texts get tokenized using tokeniser and then its converted to numerical indices using vocab\n",
    "Then sequences are truncated to a fixed length (max_tonekns)\n",
    "\n",
    "Returns athe tokenized sequence and labels to pytorch tensors\n",
    "\"\"\"\n",
    "\n",
    "# function passed to the DataLoader to process a batch of data as indicated\n",
    "def collate_batch(batch):\n",
    "    # Get label and text\n",
    "    y, x = list(zip(*batch)) #\n",
    "     \n",
    "    # Create list with indices from tokeniser\n",
    "    x = [vocab(tokeniser(text)) for text in x]\n",
    "    x = [t + ([0]*(max_tokens - len(t))) if len(t) < max_tokens else t[:max_tokens] for t in x]\n",
    "\n",
    "    # Prepare the labels, by subtracting 1 to get them in the range 0-3\n",
    "    return torch.tensor(x, dtype=torch.int32), torch.tensor(y, dtype=torch.int32) - 1"
   ]
  },
  {
   "cell_type": "code",
   "execution_count": null,
   "id": "5eb459c7",
   "metadata": {},
   "outputs": [],
   "source": [
    "labels =  [\"World\", \"Sports\", \"Business\", \"Sci/Tech\"] #List of classes / labels\n",
    "max_tokens = 50 #Max length on sequences\n",
    "BATCH_SIZE = 256 #Batch size"
   ]
  },
  {
   "cell_type": "code",
   "execution_count": null,
   "id": "0a55e6ee",
   "metadata": {},
   "outputs": [],
   "source": [
    "\"\"\"\n",
    "Each loaders are created with the sets train, val and test\n",
    "Here we use collate_batch to process batches\n",
    "\"\"\"\n",
    "\n",
    "train_loader = DataLoader(train_dataset, batch_size=BATCH_SIZE, collate_fn=collate_batch, shuffle = True) #\n",
    "val_loader = DataLoader(val_dataset, batch_size=BATCH_SIZE, collate_fn=collate_batch, shuffle = True)\n",
    "test_loader = DataLoader(test_dataset, batch_size=BATCH_SIZE, collate_fn=collate_batch, shuffle = True)"
   ]
  },
  {
   "cell_type": "markdown",
   "id": "47b98898",
   "metadata": {},
   "source": [
    "### Let us build our RNN model"
   ]
  },
  {
   "cell_type": "code",
   "execution_count": null,
   "id": "50f20793",
   "metadata": {},
   "outputs": [],
   "source": [
    "\"\"\"\n",
    "Constants the will define the model to use\n",
    "\"\"\"\n",
    "\n",
    "EMBEDDING_SIZE = 64  #maps words to dense vectors\n",
    "NEURONS = 64  #Number of neurons of the fc layer\n",
    "LAYERS = 2  #Number of LSTM layers stack one behind other\n",
    "NUM_CLASSES = 4 #Quantity of outputs"
   ]
  },
  {
   "cell_type": "code",
   "execution_count": null,
   "id": "0f7f5621",
   "metadata": {},
   "outputs": [],
   "source": [
    "\"\"\"\n",
    "The core unit used to processes the tokenized text is a LSTM architecture\n",
    "LSTM model receive tokens and then computes throught a fc layer to generate 4 outputs for each class\n",
    "\"\"\"\n",
    "\n",
    "\n",
    "class RNN_Model_1(nn.Module):\n",
    "    def __init__(self, embed_size, hidden, layers, num_classes):\n",
    "        super().__init__()\n",
    "        self.embedding_layer = nn.Embedding(num_embeddings=len(vocab),  # this is the size of the dictionary of embeddings\n",
    "                                            embedding_dim=embed_size) # this is the size of each embedding vector\n",
    "        \n",
    "        self.rnn = nn.LSTM(embed_size, hidden, layers, batch_first=True)    #the embed vector is received and proces 2 times as  \n",
    "                                                                            #defined before on the layers, batch_firts indicates that the tensor has the \n",
    "                                                                            #length of the batch on the first position of the tensor\n",
    "       \n",
    "        \n",
    "        self.fc = nn.Linear(hidden, num_classes)    # Here we use a FC layer to processes the data to get the outputs \n",
    "                                                    # num_classes is the 4 clases to predict \"World\", \"Sports\", \"Business\", \"Sci/Tech\"\n",
    "        \n",
    "    \n",
    "    def forward(self, x): #The input to the module is a list of indices\n",
    "        x = self.embedding_layer(x) #The output is the corresponding word embeddings\n",
    "        output, (x , _) = self.rnn(x) #x is a vector of the hidden states computed from the LSTM cell (or cells)\n",
    "        x = x[-1,:,:] # the final hidden stated is extracted\n",
    "        x = self.fc(x) # the output \n",
    "        return x\n",
    "        "
   ]
  },
  {
   "cell_type": "code",
   "execution_count": null,
   "id": "2a42613f",
   "metadata": {
    "code_folding": []
   },
   "outputs": [],
   "source": [
    "def accuracy(model, loader):\n",
    "    correctos = 0 #number of correct outputs that correspont to the true labels\n",
    "    total = 0 #total of correct outputs generated on the full batch\n",
    "    model.eval() # This function set the model on evaluation, then it will not compute the gradiants of the parameters\n",
    "    model = model.to(device=device) # The model is charged on the device, on the gpu\n",
    "    with torch.no_grad():\n",
    "        for x_batch, y_batch in loader: \n",
    "            #The batched data are charged to the gpu\n",
    "            x_batch, y_batch = x_batch.to(device=device, dtype=torch.int),y_batch.to(device=device, dtype=torch.long)\n",
    "\n",
    "            resultados = model(x_batch) #the model processes and returns the predicted outputs\n",
    "            \n",
    "            _, predicciones = resultados.max(dim=1)  #pred shape \n",
    "            # the predicted labels are compared with the true labels and get summed all the right answers\n",
    "            correctos += (predicciones == y_batch).sum()  \n",
    "            total += predicciones.size(0) \n",
    "\n",
    "    accuracy = 100 * correctos / total\n",
    "    return accuracy"
   ]
  },
  {
   "cell_type": "code",
   "execution_count": null,
   "id": "5e843e1f",
   "metadata": {
    "code_folding": []
   },
   "outputs": [],
   "source": [
    "def train(model, optimiser, epochs=100):\n",
    "    model = model.to(device=device) #the model is charged on the gpu\n",
    "    for epoch in range(epochs): #the model is going to loop on the range of number of epochs\n",
    "        \n",
    "        for i, (x_batch,y_batch) in enumerate(train_loader):\n",
    "            model.train() #the model is set on train mode\n",
    "            \n",
    "            #the data are charged on the gpu to be computed\n",
    "            x_batch, y_batch = x_batch.to(device, dtype=torch.int), y_batch.to(device, dtype=torch.long)\n",
    "    \n",
    "            #model processes the data and the output is saved on the resultados variable\n",
    "            resultados = model(x_batch)\n",
    "            #loss is calculated with cross entropy because we are looking throught many labels\n",
    "            loss = F.cross_entropy(input= resultados, target=y_batch) \n",
    "\n",
    "            optimiser.zero_grad() #optimiser is cleaned \n",
    "            loss.backward() #loss calculates the gradiants to uptdate the weights \n",
    "            optimiser.step() #weights are updated\n",
    "\n",
    "            acc = accuracy(model, val_loader)  # accuracy is called to find how correct the model is with the val set\n",
    "        print(f\"Epoch [{epoch+1}/{epochs}], Loss: {loss.item():.4f}, Acc: {acc}\")"
   ]
  },
  {
   "cell_type": "code",
   "execution_count": null,
   "id": "87775b29",
   "metadata": {},
   "outputs": [],
   "source": [
    "\"\"\"\n",
    "We set the number of epochs for the train\n",
    "lr indicates the change to reduce the loss of the model\n",
    "\"\"\"\n",
    "\n",
    "epochs = 3\n",
    "lr = 0.01\n",
    "\n",
    "\n",
    "# instantiate model\n",
    "rnn_model = RNN_Model_1(EMBEDDING_SIZE, NEURONS, LAYERS, NUM_CLASSES) #\n",
    "optimiser = torch.optim.Adam(rnn_model.parameters(), lr=lr)\n"
   ]
  },
  {
   "cell_type": "code",
   "execution_count": 21,
   "id": "39813cb0-7b0c-4589-a3f4-09e28503546c",
   "metadata": {
    "scrolled": true
   },
   "outputs": [
    {
     "name": "stdout",
     "output_type": "stream",
     "text": [
      "RNN_Model_1(\n",
      "  (embedding_layer): Embedding(95811, 64)\n",
      "  (rnn): LSTM(64, 64, num_layers=2, batch_first=True)\n",
      "  (fc): Linear(in_features=64, out_features=4, bias=True)\n",
      ")\n"
     ]
    }
   ],
   "source": [
    "print(rnn_model)"
   ]
  },
  {
   "cell_type": "code",
   "execution_count": 22,
   "id": "aec12a1b",
   "metadata": {
    "scrolled": true
   },
   "outputs": [
    {
     "name": "stdout",
     "output_type": "stream",
     "text": [
      "Epoch [1/3], Loss: 0.3238, Acc: 90.1500015258789\n",
      "Epoch [2/3], Loss: 0.1362, Acc: 91.61666870117188\n",
      "Epoch [3/3], Loss: 0.1358, Acc: 91.25833129882812\n"
     ]
    }
   ],
   "source": [
    "train(rnn_model, optimiser=optimiser,  epochs=epochs)"
   ]
  },
  {
   "cell_type": "code",
   "execution_count": 23,
   "id": "7a3ef175",
   "metadata": {},
   "outputs": [
    {
     "name": "stdout",
     "output_type": "stream",
     "text": [
      "91.4079\n"
     ]
    }
   ],
   "source": [
    "print(f'{accuracy(rnn_model, test_loader):.4f}')"
   ]
  },
  {
   "cell_type": "code",
   "execution_count": null,
   "id": "ed30693d",
   "metadata": {},
   "outputs": [],
   "source": [
    "\"\"\"\n",
    "sample_text\n",
    "samples a batch of data from the test loader\n",
    "makes a prediction on the data \n",
    "and then the original text, true label, and the predicted label for each sample is printed\n",
    "the print is stopped when a <pad> is found or when the second batch is gotten\n",
    "\n",
    "\"\"\"\n",
    "\n",
    "def sample_text(model, loader):\n",
    "    model.eval() #model is set on eval mode\n",
    "    samples=[] #this list saves the samples taken\n",
    "    with torch.no_grad():\n",
    "        for i, (x_batch, y_batch) in enumerate(loader): #the test loader is iterated\n",
    "            \n",
    "            if (i == 1):\n",
    "                break #when the loop gets to the second batch is gotten\n",
    "          \n",
    "            # the data is loaded in the gpu\n",
    "            x_batch, y_batch = x_batch.to(device=device, dtype=torch.int),y_batch.to(device=device, dtype=torch.long)\n",
    "            resultados = model(x_batch) #the model processes the data\n",
    "            _, predicciones = resultados.max(dim=1)  #the predictions are taken from the fist dimension to the output tensor\n",
    "    \n",
    "            for j in range(len(x_batch)): #the original text tokenized is iterated\n",
    "                texto_tokens = vocab.lookup_tokens(x_batch[j].cpu().numpy()) #each number tokenized that represents a word return to be a word\n",
    "                if texto_tokens == '<pad>': #when the restored word is <pad> then the print and all is stopped \n",
    "                    break\n",
    "                texto_original = ' '.join(texto_tokens) #all the returned words are joinned\n",
    "                prediccion = labels[predicciones[j]] #the prediction is taken from predicciones \n",
    "                real = labels[y_batch[j]] #the true label is taken\n",
    "\n",
    "        samples.append((texto_original,real,prediccion))\n",
    "    print('muestras de prediccion: ')\n",
    "    for texto, real, prediccion in samples:\n",
    "        print(f\"Texto: {texto}\\nEtiqueta Real: {real} - Etiqueta Predicha: {prediccion}\\n\")\n",
    "\n"
   ]
  },
  {
   "cell_type": "code",
   "execution_count": 25,
   "id": "534f0220",
   "metadata": {},
   "outputs": [
    {
     "name": "stdout",
     "output_type": "stream",
     "text": [
      "muestras de prediccion: \n",
      "Texto: microsoft ends decade of antitrust suits seattle/new york ( reuters ) - microsoft corp . &lt a href=http //www . investor . reuters . com/fullquote . aspx ? ticker=msft . o target=/stocks/quickinfo/fullquote&gt msft . o&lt /a&gt said on monday it had agreed to settle antitrust lawsuits with novell inc .\n",
      "Etiqueta Real: Business - Etiqueta Predicha: Business\n",
      "\n"
     ]
    }
   ],
   "source": [
    "sample_text(rnn_model, test_loader)"
   ]
  },
  {
   "cell_type": "code",
   "execution_count": null,
   "id": "bb38e093",
   "metadata": {},
   "outputs": [
    {
     "data": {
      "image/png": "[encoded data removed]",
      "text/plain": [
       "<Figure size 800x600 with 2 Axes>"
      ]
     },
     "metadata": {},
     "output_type": "display_data"
    }
   ],
   "source": [
    "\n",
    "\"\"\"\n",
    "plot_confusion_matrix:\n",
    "\n",
    "Calculates the confusion matrix on the test set\n",
    "Visualizes the confusion matrix using a heatmap\n",
    "\n",
    "\"\"\"\n",
    "\n",
    "from sklearn.metrics import confusion_matrix\n",
    "import seaborn as sns\n",
    "import matplotlib.pyplot as plt\n",
    "\n",
    "def plot_confusion_matrix(model, loader, labels):\n",
    "    model.eval() #sets the model to evaluation mode\n",
    "    model = model.to(device) #the model is sent to the gpu\n",
    "\n",
    "    #Here the true labels and predicted labels are stored\n",
    "    total_predicciones = []\n",
    "    total_verdaderos = []\n",
    "\n",
    "    with torch.no_grad(): #no gradiants are going to be calculated\n",
    "        for x_batch, y_batch in loader:\n",
    "            #Data is sent to the hpu\n",
    "            x_batch, y_batch = x_batch.to(device, dtype=torch.int), y_batch.to(device, dtype=torch.long)\n",
    "\n",
    "            resultado = model(x_batch) # Model processes and return the predicted data\n",
    "            _, predicciones = resultado.max(dim=1)  #The second tensor contains the indices of the maximum values\n",
    "\n",
    "            total_predicciones.extend(predicciones.cpu().numpy()) #then predicted data is stored\n",
    "            total_verdaderos.extend(y_batch.cpu().numpy()) # true data is stered\n",
    "\n",
    "    #With sklearn.metrics confusion matrix is displayed\n",
    "    cm = confusion_matrix(total_predicciones, total_verdaderos)\n",
    "    plt.figure(figsize=(8, 6))\n",
    "    sns.heatmap(cm, annot=True, fmt='d', cmap='Blues', xticklabels=labels, yticklabels=labels)\n",
    "    plt.title('Matriz de Confusión')\n",
    "    plt.xlabel('Predicciones')\n",
    "    plt.ylabel('Valores  Reales')\n",
    "    plt.show()\n",
    "\n",
    "plot_confusion_matrix(rnn_model, test_loader, labels)"
   ]
  }
 ],
 "metadata": {
  "kernelspec": {
   "display_name": "Python 3 (ipykernel)",
   "language": "python",
   "name": "python3"
  },
  "language_info": {
   "codemirror_mode": {
    "name": "ipython",
    "version": 3
   },
   "file_extension": ".py",
   "mimetype": "text/x-python",
   "name": "python",
   "nbconvert_exporter": "python",
   "pygments_lexer": "ipython3",
   "version": "3.11.7"
  },
  "varInspector": {
   "cols": {
    "lenName": 16,
    "lenType": 16,
    "lenVar": 40
   },
   "kernels_config": {
    "python": {
     "delete_cmd_postfix": "",
     "delete_cmd_prefix": "del ",
     "library": "var_list.py",
     "varRefreshCmd": "print(var_dic_list())"
    },
    "r": {
     "delete_cmd_postfix": ") ",
     "delete_cmd_prefix": "rm(",
     "library": "var_list.r",
     "varRefreshCmd": "cat(var_dic_list()) "
    }
   },
   "types_to_exclude": [
    "module",
    "function",
    "builtin_function_or_method",
    "instance",
    "_Feature"
   ],
   "window_display": false
  }
 },
 "nbformat": 4,
 "nbformat_minor": 5
}
