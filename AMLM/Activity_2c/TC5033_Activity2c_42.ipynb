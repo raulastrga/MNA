{
 "cells": [
  {
   "cell_type": "markdown",
   "metadata": {
    "id": "mwZUNgcoYAQd"
   },
   "source": [
    "# Team members"
   ]
  },
  {
   "cell_type": "markdown",
   "metadata": {
    "id": "Cysz86G-YJRb"
   },
   "source": [
    "| Id        | Student                                 |\n",
    "|-----------|-----------------------------------------|\n",
    "| A01795654 | Raul Astorga Castro                     |\n",
    "| A01795579 | Edson Misael Astorga Castro             |\n",
    "| A01373679 | Luis Miguel Balderas González de Burgos |\n",
    "| A01730466 | Sinaí Avalos Rivera                     |\n",
    "| A01410682 | Carlos Miguel Arvizu Durán              |"
   ]
  },
  {
   "cell_type": "markdown",
   "metadata": {
    "id": "G5p3vNMmB1UV"
   },
   "source": [
    "# TC 5033\n",
    "## Deep Learning\n",
    "## Transfer Learning\n",
    "\n",
    "<br>\n",
    "\n",
    "#### Activity 2c: Exploring Transfer Learning with CIFAR-10\n",
    "<br>\n",
    "\n",
    "- Objective:\n",
    "\n",
    "    In this activity, you'll study the concept of Transfer Learning, a powerful technique to improve the performance of your models by leveraging pre-trained architectures. The provided notebook offers a complete solution using a specific pre-trained model on the CIFAR-10 dataset. Your task is to extend this by trying out two other pre-trained models.\n",
    "    \n",
    "- Instructions:\n",
    "\n",
    "    This activity should be submitted in the same format as previous activities. Remember to include the names of all team members in a markdown cell at the beginning of the notebook. The grade obtained in this notebook will be averaged with that of Activity 2b, for the grade of Activity 2.    \n",
    "\n",
    "    Study the Provided Code: The provided notebook has a complete Transfer Learning solution using a particular pre-trained model. Make sure you understand the flow of the code and the role of each component.\n",
    "\n",
    "    Select Two Other Pre-trained Models: Choose two different pre-trained models available in PyTorch's model zoo.\n",
    "\n",
    "    Apply Transfer Learning: Add cells to implement Transfer Learning using the two models you've chosen. Train these models on the CIFAR-10 dataset.\n",
    "\n",
    "    Evaluation: After training, evaluate your models' performance. Compare the results with the provided solution and try to interpret why there might be differences.\n",
    "\n",
    "    Documentation: In a markdown cell, summarize your findings. Include any challenges you faced, how you overcame them, and any interesting insights you gained from comparing the different pre-trained models.\n",
    "\n",
    "- Note:\n",
    "\n",
    "    Although the provided code serves as a guide, you're encouraged to implement the new solutions on your own. The goal is to reinforce your understanding of Transfer Learning and how to apply it effectively.\n",
    "\n",
    "\n"
   ]
  },
  {
   "cell_type": "markdown",
   "metadata": {
    "id": "kxuIsCJ-YNN5"
   },
   "source": [
    "## Import files and libraries required for the model training"
   ]
  },
  {
   "cell_type": "markdown",
   "metadata": {},
   "source": [
    "### Libraries"
   ]
  },
  {
   "cell_type": "code",
   "execution_count": 5,
   "metadata": {
    "id": "RlFHMKexB1UX"
   },
   "outputs": [],
   "source": [
    "import numpy as np\n",
    "import torch\n",
    "import torch.nn as nn\n",
    "import torch.nn.functional as F\n",
    "\n",
    "from torch.utils.data import DataLoader\n",
    "from torch.utils.data import sampler\n",
    "import torchvision.datasets as datasets\n",
    "import torchvision.transforms as T\n",
    "from torchvision import models\n",
    "import matplotlib.pyplot as plt"
   ]
  },
  {
   "cell_type": "markdown",
   "metadata": {
    "id": "3YnPtkuxB1UX"
   },
   "source": [
    "### Download Cifar10 dataset"
   ]
  },
  {
   "cell_type": "code",
   "execution_count": 8,
   "metadata": {
    "colab": {
     "base_uri": "https://localhost:8080/"
    },
    "id": "SbWtSK23B1UX",
    "outputId": "f964f4fb-4d43-4760-e495-750b10f65b53"
   },
   "outputs": [
    {
     "name": "stdout",
     "output_type": "stream",
     "text": [
      "Files already downloaded and verified\n",
      "Files already downloaded and verified\n",
      "Files already downloaded and verified\n"
     ]
    }
   ],
   "source": [
    "# Path where the datasets will be downloaded\n",
    "DATA_PATH = '/content/'\n",
    "\n",
    "# Number of elements(images) contained in the training dataset\n",
    "NUM_TRAIN = 45000\n",
    "\n",
    "# Size of the minibatches\n",
    "MINIBATCH_SIZE = 64\n",
    "\n",
    "# Transformations:\n",
    "# - Resize every image to 224x224\n",
    "# - Convert to tensor\n",
    "# - Normalize providing the mean and standard deviation of each channel\n",
    "transform_cifar = T.Compose([\n",
    "                T.Resize(224),\n",
    "                T.ToTensor(),\n",
    "                T.Normalize([0.491, 0.482, 0.447], [0.247, 0.243, 0.261])\n",
    "            ])\n",
    "\n",
    "# Training set loader\n",
    "cifar10_train = datasets.CIFAR10(DATA_PATH, train=True, download=True,\n",
    "                             transform=transform_cifar)\n",
    "train_loader = DataLoader(cifar10_train, batch_size=MINIBATCH_SIZE,\n",
    "                          sampler=sampler.SubsetRandomSampler(range(NUM_TRAIN)))\n",
    "\n",
    "# Validation set loader\n",
    "cifar10_val = datasets.CIFAR10(DATA_PATH, train=True, download=True,\n",
    "                           transform=transform_cifar)\n",
    "val_loader = DataLoader(cifar10_val, batch_size=MINIBATCH_SIZE,\n",
    "                        sampler=sampler.SubsetRandomSampler(range(NUM_TRAIN, len(cifar10_val))))\n",
    "\n",
    "# Testing set loader\n",
    "cifar10_test = datasets.CIFAR10(DATA_PATH, train=False, download=True,\n",
    "                            transform=transform_cifar)\n",
    "test_loader = DataLoader(cifar10_test, batch_size=MINIBATCH_SIZE)"
   ]
  },
  {
   "cell_type": "code",
   "execution_count": 9,
   "metadata": {
    "colab": {
     "base_uri": "https://localhost:8080/"
    },
    "id": "h4EqqL33B1UY",
    "outputId": "c169f7e2-d0b3-4f87-d983-25c473e9cfe6"
   },
   "outputs": [
    {
     "name": "stdout",
     "output_type": "stream",
     "text": [
      "0 torch.Size([64, 3, 224, 224]) torch.Size([64])\n",
      "1 torch.Size([64, 3, 224, 224]) torch.Size([64])\n",
      "2 torch.Size([64, 3, 224, 224]) torch.Size([64])\n",
      "3 torch.Size([64, 3, 224, 224]) torch.Size([64])\n",
      "4 torch.Size([64, 3, 224, 224]) torch.Size([64])\n",
      "5 torch.Size([64, 3, 224, 224]) torch.Size([64])\n",
      "6 torch.Size([64, 3, 224, 224]) torch.Size([64])\n",
      "7 torch.Size([64, 3, 224, 224]) torch.Size([64])\n",
      "8 torch.Size([64, 3, 224, 224]) torch.Size([64])\n",
      "9 torch.Size([64, 3, 224, 224]) torch.Size([64])\n",
      "10 torch.Size([64, 3, 224, 224]) torch.Size([64])\n",
      "11 torch.Size([64, 3, 224, 224]) torch.Size([64])\n",
      "12 torch.Size([64, 3, 224, 224]) torch.Size([64])\n",
      "13 torch.Size([64, 3, 224, 224]) torch.Size([64])\n",
      "14 torch.Size([64, 3, 224, 224]) torch.Size([64])\n",
      "15 torch.Size([64, 3, 224, 224]) torch.Size([64])\n",
      "16 torch.Size([64, 3, 224, 224]) torch.Size([64])\n",
      "17 torch.Size([64, 3, 224, 224]) torch.Size([64])\n",
      "18 torch.Size([64, 3, 224, 224]) torch.Size([64])\n",
      "19 torch.Size([64, 3, 224, 224]) torch.Size([64])\n",
      "20 torch.Size([64, 3, 224, 224]) torch.Size([64])\n",
      "21 torch.Size([64, 3, 224, 224]) torch.Size([64])\n",
      "22 torch.Size([64, 3, 224, 224]) torch.Size([64])\n",
      "23 torch.Size([64, 3, 224, 224]) torch.Size([64])\n",
      "24 torch.Size([64, 3, 224, 224]) torch.Size([64])\n",
      "25 torch.Size([64, 3, 224, 224]) torch.Size([64])\n",
      "26 torch.Size([64, 3, 224, 224]) torch.Size([64])\n",
      "27 torch.Size([64, 3, 224, 224]) torch.Size([64])\n",
      "28 torch.Size([64, 3, 224, 224]) torch.Size([64])\n",
      "29 torch.Size([64, 3, 224, 224]) torch.Size([64])\n",
      "30 torch.Size([64, 3, 224, 224]) torch.Size([64])\n",
      "31 torch.Size([64, 3, 224, 224]) torch.Size([64])\n",
      "32 torch.Size([64, 3, 224, 224]) torch.Size([64])\n",
      "33 torch.Size([64, 3, 224, 224]) torch.Size([64])\n",
      "34 torch.Size([64, 3, 224, 224]) torch.Size([64])\n",
      "35 torch.Size([64, 3, 224, 224]) torch.Size([64])\n",
      "36 torch.Size([64, 3, 224, 224]) torch.Size([64])\n",
      "37 torch.Size([64, 3, 224, 224]) torch.Size([64])\n",
      "38 torch.Size([64, 3, 224, 224]) torch.Size([64])\n",
      "39 torch.Size([64, 3, 224, 224]) torch.Size([64])\n",
      "40 torch.Size([64, 3, 224, 224]) torch.Size([64])\n",
      "41 torch.Size([64, 3, 224, 224]) torch.Size([64])\n",
      "42 torch.Size([64, 3, 224, 224]) torch.Size([64])\n",
      "43 torch.Size([64, 3, 224, 224]) torch.Size([64])\n",
      "44 torch.Size([64, 3, 224, 224]) torch.Size([64])\n",
      "45 torch.Size([64, 3, 224, 224]) torch.Size([64])\n",
      "46 torch.Size([64, 3, 224, 224]) torch.Size([64])\n",
      "47 torch.Size([64, 3, 224, 224]) torch.Size([64])\n",
      "48 torch.Size([64, 3, 224, 224]) torch.Size([64])\n",
      "49 torch.Size([64, 3, 224, 224]) torch.Size([64])\n",
      "50 torch.Size([64, 3, 224, 224]) torch.Size([64])\n",
      "51 torch.Size([64, 3, 224, 224]) torch.Size([64])\n",
      "52 torch.Size([64, 3, 224, 224]) torch.Size([64])\n",
      "53 torch.Size([64, 3, 224, 224]) torch.Size([64])\n",
      "54 torch.Size([64, 3, 224, 224]) torch.Size([64])\n",
      "55 torch.Size([64, 3, 224, 224]) torch.Size([64])\n",
      "56 torch.Size([64, 3, 224, 224]) torch.Size([64])\n",
      "57 torch.Size([64, 3, 224, 224]) torch.Size([64])\n",
      "58 torch.Size([64, 3, 224, 224]) torch.Size([64])\n",
      "59 torch.Size([64, 3, 224, 224]) torch.Size([64])\n",
      "60 torch.Size([64, 3, 224, 224]) torch.Size([64])\n",
      "61 torch.Size([64, 3, 224, 224]) torch.Size([64])\n",
      "62 torch.Size([64, 3, 224, 224]) torch.Size([64])\n",
      "63 torch.Size([64, 3, 224, 224]) torch.Size([64])\n",
      "64 torch.Size([64, 3, 224, 224]) torch.Size([64])\n",
      "65 torch.Size([64, 3, 224, 224]) torch.Size([64])\n",
      "66 torch.Size([64, 3, 224, 224]) torch.Size([64])\n",
      "67 torch.Size([64, 3, 224, 224]) torch.Size([64])\n",
      "68 torch.Size([64, 3, 224, 224]) torch.Size([64])\n",
      "69 torch.Size([64, 3, 224, 224]) torch.Size([64])\n",
      "70 torch.Size([64, 3, 224, 224]) torch.Size([64])\n",
      "71 torch.Size([64, 3, 224, 224]) torch.Size([64])\n",
      "72 torch.Size([64, 3, 224, 224]) torch.Size([64])\n",
      "73 torch.Size([64, 3, 224, 224]) torch.Size([64])\n",
      "74 torch.Size([64, 3, 224, 224]) torch.Size([64])\n",
      "75 torch.Size([64, 3, 224, 224]) torch.Size([64])\n",
      "76 torch.Size([64, 3, 224, 224]) torch.Size([64])\n",
      "77 torch.Size([64, 3, 224, 224]) torch.Size([64])\n",
      "78 torch.Size([8, 3, 224, 224]) torch.Size([8])\n"
     ]
    }
   ],
   "source": [
    "# Printing the x and y shape of each minibatch just to validate that everything is ok\n",
    "for i, (x, y) in enumerate(val_loader):\n",
    "    # i represents the number of iteration\n",
    "    # x has a shale with 4 elements, first indicates the quantity of images, second the \n",
    "    # number of channels of each image and last two\n",
    "    # indicates the number of pixels\n",
    "    # y has a shape that only indicates the numbers images that would be on x\n",
    "    print(i, x.shape, y.shape)"
   ]
  },
  {
   "cell_type": "markdown",
   "metadata": {
    "id": "2F4ODfAIB1UY"
   },
   "source": [
    "## Using GPU"
   ]
  },
  {
   "cell_type": "code",
   "execution_count": 16,
   "metadata": {
    "colab": {
     "base_uri": "https://localhost:8080/"
    },
    "id": "0jn3vqZbB1UY",
    "outputId": "3cbc5ea5-a526-470a-9507-dba38d876e0f"
   },
   "outputs": [
    {
     "name": "stdout",
     "output_type": "stream",
     "text": [
      "cuda\n"
     ]
    }
   ],
   "source": [
    "if torch.cuda.is_available():\n",
    "    device = torch.device('cuda') # GPU will be used if available\n",
    "elif torch.backends.mps.is_available():\n",
    "    device = torch.device('mps') # GPU will be used in Apple Silicon Macs if available\n",
    "else:\n",
    "    device = torch.device('cpu') # CPU will be used if GPU is not available\n",
    "print(device)"
   ]
  },
  {
   "cell_type": "markdown",
   "metadata": {
    "id": "WYqFLzB3B1UZ"
   },
   "source": [
    "## Plot samples"
   ]
  },
  {
   "cell_type": "code",
   "execution_count": 19,
   "metadata": {
    "colab": {
     "base_uri": "https://localhost:8080/",
     "height": 424
    },
    "id": "XnQ8SPT0B1UZ",
    "outputId": "ff879151-fac1-48e5-9d1f-e1c6f11dfcbe"
   },
   "outputs": [
    {
     "name": "stdout",
     "output_type": "stream",
     "text": [
      "The sampled image represents a: Cat\n"
     ]
    },
    {
     "data": {
      "image/png": "[encoded data removed]",
      "text/plain": [
       "<Figure size 640x480 with 1 Axes>"
      ]
     },
     "metadata": {},
     "output_type": "display_data"
    }
   ],
   "source": [
    "# Create an array with the name of the different classes (in string)\n",
    "# Each one of these classes are going to be output of the CNN\n",
    "classes = ['Plane', 'Car', 'Bird', 'Cat', 'Deer','Dog', 'Frog', 'Horse', 'Ship', 'Truck']\n",
    "\n",
    "# Function to print images on screen\n",
    "def plot_figure(image):\n",
    "    plt.imshow(image.permute(1,2,0))\n",
    "    plt.axis('off')\n",
    "    plt.show()\n",
    "\n",
    "# A random index is generated on the full size of the test dataset\n",
    "rnd_sample_idx = np.random.randint(len(test_loader))\n",
    "\n",
    "# Takes the index and prints the string class that represents that index\n",
    "print(f'The sampled image represents a: {classes[test_loader.dataset[rnd_sample_idx][1]]}')\n",
    "\n",
    "# Extract the image from the test dataset that corresponds to the previously generated index\n",
    "image = test_loader.dataset[rnd_sample_idx][0]\n",
    "image = (image - image.min()) / (image.max() -image.min() )\n",
    "\n",
    "# Print the image on the screen\n",
    "plot_figure(image)"
   ]
  },
  {
   "cell_type": "markdown",
   "metadata": {
    "id": "nUJ_2f8tB1UZ"
   },
   "source": [
    "## Calculate Accuracy"
   ]
  },
  {
   "cell_type": "code",
   "execution_count": 22,
   "metadata": {
    "id": "w1UAo5-hB1UZ"
   },
   "outputs": [],
   "source": [
    "def accuracy(model, loader):\n",
    "    \"\"\"\n",
    "    Calculates the accuracy of the model depending of the loader (train, test, validation)\n",
    "\n",
    "    Args:\n",
    "    model: Feature set\n",
    "    loader: Dataset with features and labels\n",
    "\n",
    "    Returns:\n",
    "    float: Model accuracy\n",
    "    \"\"\"\n",
    "    num_correct = 0 #First we intialize the variables\n",
    "    num_total = 0\n",
    "    model.eval() # This function set the model on evaluation, then it will not compute the gradiants of the parameters\n",
    "    model = model.to(device=device) # The model is charged on the device\n",
    "    with torch.no_grad(): \n",
    "        for (xi, yi) in loader:\n",
    "            xi = xi.to(device=device, dtype = torch.float32) # Each image and correct class of the image is charged on the GPU\n",
    "            yi = yi.to(device=device, dtype = torch.long)\n",
    "            scores = model(xi) # mb_size, 10 With this function all the model runs and calculates its scores\n",
    "            _, pred = scores.max(dim=1) #pred shape (mb_size ) \n",
    "            num_correct += (pred == yi).sum() # pred shape (mb_size), yi shape (mb_size, 1)\n",
    "            num_total += pred.size(0)\n",
    "        return float(num_correct)/num_total\n",
    "\n"
   ]
  },
  {
   "cell_type": "markdown",
   "metadata": {
    "id": "GG1xbzmOB1Ua"
   },
   "source": [
    "## Training loop"
   ]
  },
  {
   "cell_type": "code",
   "execution_count": 25,
   "metadata": {
    "id": "5QwNNOnMB1Ua"
   },
   "outputs": [],
   "source": [
    "def train(model, optimiser, epochs=100):\n",
    "    \"\"\"\n",
    "    Train the model using the previously defined layers\n",
    "\n",
    "    Args:\n",
    "    model (Sequential_layers): The model to train\n",
    "    optimiser: Predefined and parameterized optimization function\n",
    "    epochs (int): Number of training epochs\n",
    "    \"\"\"\n",
    "    model = model.to(device=device) # With this function we charge the model on the device, on the gpu\n",
    "    for epoch in range(epochs):\n",
    "        for i, (xi, yi) in enumerate(train_loader):\n",
    "            model.train() # Now we set the model on train mode, then it computes the gradiants\n",
    "            xi = xi.to(device=device, dtype=torch.float32) \n",
    "            yi = yi.to(device=device, dtype=torch.long)\n",
    "            scores = model(xi) #Once we charge the images on the GPU the model computes all the variables on the NN\n",
    "\n",
    "            cost = F.cross_entropy(input= scores, target=yi) #And with this we get the probability precisión of the calculus\n",
    "\n",
    "            optimiser.zero_grad() # This lines cleans the old gradiants calculated\n",
    "            cost.backward() # Then we compute the gradiants of the loss\n",
    "            optimiser.step() # Then we perform the update of the nn\n",
    "\n",
    "        acc = accuracy(model, val_loader) \n",
    "        print(f'Epoch: {epoch}, cost: {cost.item()}, accuracy: {acc},')"
   ]
  },
  {
   "cell_type": "markdown",
   "metadata": {
    "id": "mG6KYQoGB1UZ"
   },
   "source": [
    "## Load Pre-trained Model"
   ]
  },
  {
   "cell_type": "markdown",
   "metadata": {
    "id": "LufZy8yGfoXi"
   },
   "source": [
    "### ResNet18"
   ]
  },
  {
   "cell_type": "code",
   "execution_count": 41,
   "metadata": {
    "colab": {
     "base_uri": "https://localhost:8080/"
    },
    "id": "k77B_GfIB1UZ",
    "outputId": "4f30063a-d4aa-4dc2-dfb8-de3889585e9f"
   },
   "outputs": [],
   "source": [
    "# Load ResNet18 pretrianed from torchvision\n",
    "model_resnet18 = models.resnet18(weights=models.ResNet18_Weights.IMAGENET1K_V1) # We call the model to use that is proved has a good performance"
   ]
  },
  {
   "cell_type": "markdown",
   "metadata": {
    "id": "QnbBk5hEB1UZ"
   },
   "source": [
    "#### Exploring the model"
   ]
  },
  {
   "cell_type": "code",
   "execution_count": 44,
   "metadata": {
    "colab": {
     "base_uri": "https://localhost:8080/"
    },
    "id": "BdweM6F0B1UZ",
    "outputId": "a3513acf-a854-4256-c702-06c0c44bb5eb",
    "scrolled": true
   },
   "outputs": [
    {
     "name": "stdout",
     "output_type": "stream",
     "text": [
      "0 torch.Size([64, 3, 7, 7]) True\n",
      "1 torch.Size([64]) True\n",
      "2 torch.Size([64]) True\n",
      "3 torch.Size([64, 64, 3, 3]) True\n",
      "4 torch.Size([64]) True\n",
      "5 torch.Size([64]) True\n",
      "6 torch.Size([64, 64, 3, 3]) True\n",
      "7 torch.Size([64]) True\n",
      "8 torch.Size([64]) True\n",
      "9 torch.Size([64, 64, 3, 3]) True\n",
      "10 torch.Size([64]) True\n",
      "11 torch.Size([64]) True\n",
      "12 torch.Size([64, 64, 3, 3]) True\n",
      "13 torch.Size([64]) True\n",
      "14 torch.Size([64]) True\n",
      "15 torch.Size([128, 64, 3, 3]) True\n",
      "16 torch.Size([128]) True\n",
      "17 torch.Size([128]) True\n",
      "18 torch.Size([128, 128, 3, 3]) True\n",
      "19 torch.Size([128]) True\n",
      "20 torch.Size([128]) True\n",
      "21 torch.Size([128, 64, 1, 1]) True\n",
      "22 torch.Size([128]) True\n",
      "23 torch.Size([128]) True\n",
      "24 torch.Size([128, 128, 3, 3]) True\n",
      "25 torch.Size([128]) True\n",
      "26 torch.Size([128]) True\n",
      "27 torch.Size([128, 128, 3, 3]) True\n",
      "28 torch.Size([128]) True\n",
      "29 torch.Size([128]) True\n",
      "30 torch.Size([256, 128, 3, 3]) True\n",
      "31 torch.Size([256]) True\n",
      "32 torch.Size([256]) True\n",
      "33 torch.Size([256, 256, 3, 3]) True\n",
      "34 torch.Size([256]) True\n",
      "35 torch.Size([256]) True\n",
      "36 torch.Size([256, 128, 1, 1]) True\n",
      "37 torch.Size([256]) True\n",
      "38 torch.Size([256]) True\n",
      "39 torch.Size([256, 256, 3, 3]) True\n",
      "40 torch.Size([256]) True\n",
      "41 torch.Size([256]) True\n",
      "42 torch.Size([256, 256, 3, 3]) True\n",
      "43 torch.Size([256]) True\n",
      "44 torch.Size([256]) True\n",
      "45 torch.Size([512, 256, 3, 3]) True\n",
      "46 torch.Size([512]) True\n",
      "47 torch.Size([512]) True\n",
      "48 torch.Size([512, 512, 3, 3]) True\n",
      "49 torch.Size([512]) True\n",
      "50 torch.Size([512]) True\n",
      "51 torch.Size([512, 256, 1, 1]) True\n",
      "52 torch.Size([512]) True\n",
      "53 torch.Size([512]) True\n",
      "54 torch.Size([512, 512, 3, 3]) True\n",
      "55 torch.Size([512]) True\n",
      "56 torch.Size([512]) True\n",
      "57 torch.Size([512, 512, 3, 3]) True\n",
      "58 torch.Size([512]) True\n",
      "59 torch.Size([512]) True\n",
      "60 torch.Size([1000, 512]) True\n",
      "61 torch.Size([1000]) True\n"
     ]
    }
   ],
   "source": [
    "# Printing the default weights of resnet18\n",
    "for i, w in enumerate(model_resnet18.parameters()):\n",
    "    print(i, w.shape, w.requires_grad) #We make sure that the parameters are good to sync with our dataset"
   ]
  },
  {
   "cell_type": "code",
   "execution_count": 46,
   "metadata": {
    "colab": {
     "base_uri": "https://localhost:8080/"
    },
    "id": "8ok5ghkXB1UZ",
    "outputId": "63382419-fbc0-4b09-9bb9-5eeaeb10cb64",
    "scrolled": true
   },
   "outputs": [
    {
     "data": {
      "text/plain": [
       "ResNet(\n",
       "  (conv1): Conv2d(3, 64, kernel_size=(7, 7), stride=(2, 2), padding=(3, 3), bias=False)\n",
       "  (bn1): BatchNorm2d(64, eps=1e-05, momentum=0.1, affine=True, track_running_stats=True)\n",
       "  (relu): ReLU(inplace=True)\n",
       "  (maxpool): MaxPool2d(kernel_size=3, stride=2, padding=1, dilation=1, ceil_mode=False)\n",
       "  (layer1): Sequential(\n",
       "    (0): BasicBlock(\n",
       "      (conv1): Conv2d(64, 64, kernel_size=(3, 3), stride=(1, 1), padding=(1, 1), bias=False)\n",
       "      (bn1): BatchNorm2d(64, eps=1e-05, momentum=0.1, affine=True, track_running_stats=True)\n",
       "      (relu): ReLU(inplace=True)\n",
       "      (conv2): Conv2d(64, 64, kernel_size=(3, 3), stride=(1, 1), padding=(1, 1), bias=False)\n",
       "      (bn2): BatchNorm2d(64, eps=1e-05, momentum=0.1, affine=True, track_running_stats=True)\n",
       "    )\n",
       "    (1): BasicBlock(\n",
       "      (conv1): Conv2d(64, 64, kernel_size=(3, 3), stride=(1, 1), padding=(1, 1), bias=False)\n",
       "      (bn1): BatchNorm2d(64, eps=1e-05, momentum=0.1, affine=True, track_running_stats=True)\n",
       "      (relu): ReLU(inplace=True)\n",
       "      (conv2): Conv2d(64, 64, kernel_size=(3, 3), stride=(1, 1), padding=(1, 1), bias=False)\n",
       "      (bn2): BatchNorm2d(64, eps=1e-05, momentum=0.1, affine=True, track_running_stats=True)\n",
       "    )\n",
       "  )\n",
       "  (layer2): Sequential(\n",
       "    (0): BasicBlock(\n",
       "      (conv1): Conv2d(64, 128, kernel_size=(3, 3), stride=(2, 2), padding=(1, 1), bias=False)\n",
       "      (bn1): BatchNorm2d(128, eps=1e-05, momentum=0.1, affine=True, track_running_stats=True)\n",
       "      (relu): ReLU(inplace=True)\n",
       "      (conv2): Conv2d(128, 128, kernel_size=(3, 3), stride=(1, 1), padding=(1, 1), bias=False)\n",
       "      (bn2): BatchNorm2d(128, eps=1e-05, momentum=0.1, affine=True, track_running_stats=True)\n",
       "      (downsample): Sequential(\n",
       "        (0): Conv2d(64, 128, kernel_size=(1, 1), stride=(2, 2), bias=False)\n",
       "        (1): BatchNorm2d(128, eps=1e-05, momentum=0.1, affine=True, track_running_stats=True)\n",
       "      )\n",
       "    )\n",
       "    (1): BasicBlock(\n",
       "      (conv1): Conv2d(128, 128, kernel_size=(3, 3), stride=(1, 1), padding=(1, 1), bias=False)\n",
       "      (bn1): BatchNorm2d(128, eps=1e-05, momentum=0.1, affine=True, track_running_stats=True)\n",
       "      (relu): ReLU(inplace=True)\n",
       "      (conv2): Conv2d(128, 128, kernel_size=(3, 3), stride=(1, 1), padding=(1, 1), bias=False)\n",
       "      (bn2): BatchNorm2d(128, eps=1e-05, momentum=0.1, affine=True, track_running_stats=True)\n",
       "    )\n",
       "  )\n",
       "  (layer3): Sequential(\n",
       "    (0): BasicBlock(\n",
       "      (conv1): Conv2d(128, 256, kernel_size=(3, 3), stride=(2, 2), padding=(1, 1), bias=False)\n",
       "      (bn1): BatchNorm2d(256, eps=1e-05, momentum=0.1, affine=True, track_running_stats=True)\n",
       "      (relu): ReLU(inplace=True)\n",
       "      (conv2): Conv2d(256, 256, kernel_size=(3, 3), stride=(1, 1), padding=(1, 1), bias=False)\n",
       "      (bn2): BatchNorm2d(256, eps=1e-05, momentum=0.1, affine=True, track_running_stats=True)\n",
       "      (downsample): Sequential(\n",
       "        (0): Conv2d(128, 256, kernel_size=(1, 1), stride=(2, 2), bias=False)\n",
       "        (1): BatchNorm2d(256, eps=1e-05, momentum=0.1, affine=True, track_running_stats=True)\n",
       "      )\n",
       "    )\n",
       "    (1): BasicBlock(\n",
       "      (conv1): Conv2d(256, 256, kernel_size=(3, 3), stride=(1, 1), padding=(1, 1), bias=False)\n",
       "      (bn1): BatchNorm2d(256, eps=1e-05, momentum=0.1, affine=True, track_running_stats=True)\n",
       "      (relu): ReLU(inplace=True)\n",
       "      (conv2): Conv2d(256, 256, kernel_size=(3, 3), stride=(1, 1), padding=(1, 1), bias=False)\n",
       "      (bn2): BatchNorm2d(256, eps=1e-05, momentum=0.1, affine=True, track_running_stats=True)\n",
       "    )\n",
       "  )\n",
       "  (layer4): Sequential(\n",
       "    (0): BasicBlock(\n",
       "      (conv1): Conv2d(256, 512, kernel_size=(3, 3), stride=(2, 2), padding=(1, 1), bias=False)\n",
       "      (bn1): BatchNorm2d(512, eps=1e-05, momentum=0.1, affine=True, track_running_stats=True)\n",
       "      (relu): ReLU(inplace=True)\n",
       "      (conv2): Conv2d(512, 512, kernel_size=(3, 3), stride=(1, 1), padding=(1, 1), bias=False)\n",
       "      (bn2): BatchNorm2d(512, eps=1e-05, momentum=0.1, affine=True, track_running_stats=True)\n",
       "      (downsample): Sequential(\n",
       "        (0): Conv2d(256, 512, kernel_size=(1, 1), stride=(2, 2), bias=False)\n",
       "        (1): BatchNorm2d(512, eps=1e-05, momentum=0.1, affine=True, track_running_stats=True)\n",
       "      )\n",
       "    )\n",
       "    (1): BasicBlock(\n",
       "      (conv1): Conv2d(512, 512, kernel_size=(3, 3), stride=(1, 1), padding=(1, 1), bias=False)\n",
       "      (bn1): BatchNorm2d(512, eps=1e-05, momentum=0.1, affine=True, track_running_stats=True)\n",
       "      (relu): ReLU(inplace=True)\n",
       "      (conv2): Conv2d(512, 512, kernel_size=(3, 3), stride=(1, 1), padding=(1, 1), bias=False)\n",
       "      (bn2): BatchNorm2d(512, eps=1e-05, momentum=0.1, affine=True, track_running_stats=True)\n",
       "    )\n",
       "  )\n",
       "  (avgpool): AdaptiveAvgPool2d(output_size=(1, 1))\n",
       "  (fc): Linear(in_features=512, out_features=1000, bias=True)\n",
       ")"
      ]
     },
     "execution_count": 46,
     "metadata": {},
     "output_type": "execute_result"
    }
   ],
   "source": [
    "# Printing the different layers that are part of resnet18\n",
    "model_resnet18 "
   ]
  },
  {
   "cell_type": "markdown",
   "metadata": {
    "id": "FyXVKXmbB1UZ"
   },
   "source": [
    "#### Adjust to our model"
   ]
  },
  {
   "cell_type": "code",
   "execution_count": 49,
   "metadata": {
    "colab": {
     "base_uri": "https://localhost:8080/"
    },
    "id": "r-SKaAziB1Ua",
    "outputId": "0dcdcba9-15ba-442c-a7ac-53ddf835ad41"
   },
   "outputs": [
    {
     "data": {
      "text/plain": [
       "Sequential(\n",
       "  (0): Conv2d(3, 64, kernel_size=(7, 7), stride=(2, 2), padding=(3, 3), bias=False)\n",
       "  (1): BatchNorm2d(64, eps=1e-05, momentum=0.1, affine=True, track_running_stats=True)\n",
       "  (2): ReLU(inplace=True)\n",
       "  (3): MaxPool2d(kernel_size=3, stride=2, padding=1, dilation=1, ceil_mode=False)\n",
       "  (4): Sequential(\n",
       "    (0): BasicBlock(\n",
       "      (conv1): Conv2d(64, 64, kernel_size=(3, 3), stride=(1, 1), padding=(1, 1), bias=False)\n",
       "      (bn1): BatchNorm2d(64, eps=1e-05, momentum=0.1, affine=True, track_running_stats=True)\n",
       "      (relu): ReLU(inplace=True)\n",
       "      (conv2): Conv2d(64, 64, kernel_size=(3, 3), stride=(1, 1), padding=(1, 1), bias=False)\n",
       "      (bn2): BatchNorm2d(64, eps=1e-05, momentum=0.1, affine=True, track_running_stats=True)\n",
       "    )\n",
       "    (1): BasicBlock(\n",
       "      (conv1): Conv2d(64, 64, kernel_size=(3, 3), stride=(1, 1), padding=(1, 1), bias=False)\n",
       "      (bn1): BatchNorm2d(64, eps=1e-05, momentum=0.1, affine=True, track_running_stats=True)\n",
       "      (relu): ReLU(inplace=True)\n",
       "      (conv2): Conv2d(64, 64, kernel_size=(3, 3), stride=(1, 1), padding=(1, 1), bias=False)\n",
       "      (bn2): BatchNorm2d(64, eps=1e-05, momentum=0.1, affine=True, track_running_stats=True)\n",
       "    )\n",
       "  )\n",
       "  (5): Sequential(\n",
       "    (0): BasicBlock(\n",
       "      (conv1): Conv2d(64, 128, kernel_size=(3, 3), stride=(2, 2), padding=(1, 1), bias=False)\n",
       "      (bn1): BatchNorm2d(128, eps=1e-05, momentum=0.1, affine=True, track_running_stats=True)\n",
       "      (relu): ReLU(inplace=True)\n",
       "      (conv2): Conv2d(128, 128, kernel_size=(3, 3), stride=(1, 1), padding=(1, 1), bias=False)\n",
       "      (bn2): BatchNorm2d(128, eps=1e-05, momentum=0.1, affine=True, track_running_stats=True)\n",
       "      (downsample): Sequential(\n",
       "        (0): Conv2d(64, 128, kernel_size=(1, 1), stride=(2, 2), bias=False)\n",
       "        (1): BatchNorm2d(128, eps=1e-05, momentum=0.1, affine=True, track_running_stats=True)\n",
       "      )\n",
       "    )\n",
       "    (1): BasicBlock(\n",
       "      (conv1): Conv2d(128, 128, kernel_size=(3, 3), stride=(1, 1), padding=(1, 1), bias=False)\n",
       "      (bn1): BatchNorm2d(128, eps=1e-05, momentum=0.1, affine=True, track_running_stats=True)\n",
       "      (relu): ReLU(inplace=True)\n",
       "      (conv2): Conv2d(128, 128, kernel_size=(3, 3), stride=(1, 1), padding=(1, 1), bias=False)\n",
       "      (bn2): BatchNorm2d(128, eps=1e-05, momentum=0.1, affine=True, track_running_stats=True)\n",
       "    )\n",
       "  )\n",
       "  (6): Sequential(\n",
       "    (0): BasicBlock(\n",
       "      (conv1): Conv2d(128, 256, kernel_size=(3, 3), stride=(2, 2), padding=(1, 1), bias=False)\n",
       "      (bn1): BatchNorm2d(256, eps=1e-05, momentum=0.1, affine=True, track_running_stats=True)\n",
       "      (relu): ReLU(inplace=True)\n",
       "      (conv2): Conv2d(256, 256, kernel_size=(3, 3), stride=(1, 1), padding=(1, 1), bias=False)\n",
       "      (bn2): BatchNorm2d(256, eps=1e-05, momentum=0.1, affine=True, track_running_stats=True)\n",
       "      (downsample): Sequential(\n",
       "        (0): Conv2d(128, 256, kernel_size=(1, 1), stride=(2, 2), bias=False)\n",
       "        (1): BatchNorm2d(256, eps=1e-05, momentum=0.1, affine=True, track_running_stats=True)\n",
       "      )\n",
       "    )\n",
       "    (1): BasicBlock(\n",
       "      (conv1): Conv2d(256, 256, kernel_size=(3, 3), stride=(1, 1), padding=(1, 1), bias=False)\n",
       "      (bn1): BatchNorm2d(256, eps=1e-05, momentum=0.1, affine=True, track_running_stats=True)\n",
       "      (relu): ReLU(inplace=True)\n",
       "      (conv2): Conv2d(256, 256, kernel_size=(3, 3), stride=(1, 1), padding=(1, 1), bias=False)\n",
       "      (bn2): BatchNorm2d(256, eps=1e-05, momentum=0.1, affine=True, track_running_stats=True)\n",
       "    )\n",
       "  )\n",
       "  (7): Sequential(\n",
       "    (0): BasicBlock(\n",
       "      (conv1): Conv2d(256, 512, kernel_size=(3, 3), stride=(2, 2), padding=(1, 1), bias=False)\n",
       "      (bn1): BatchNorm2d(512, eps=1e-05, momentum=0.1, affine=True, track_running_stats=True)\n",
       "      (relu): ReLU(inplace=True)\n",
       "      (conv2): Conv2d(512, 512, kernel_size=(3, 3), stride=(1, 1), padding=(1, 1), bias=False)\n",
       "      (bn2): BatchNorm2d(512, eps=1e-05, momentum=0.1, affine=True, track_running_stats=True)\n",
       "      (downsample): Sequential(\n",
       "        (0): Conv2d(256, 512, kernel_size=(1, 1), stride=(2, 2), bias=False)\n",
       "        (1): BatchNorm2d(512, eps=1e-05, momentum=0.1, affine=True, track_running_stats=True)\n",
       "      )\n",
       "    )\n",
       "    (1): BasicBlock(\n",
       "      (conv1): Conv2d(512, 512, kernel_size=(3, 3), stride=(1, 1), padding=(1, 1), bias=False)\n",
       "      (bn1): BatchNorm2d(512, eps=1e-05, momentum=0.1, affine=True, track_running_stats=True)\n",
       "      (relu): ReLU(inplace=True)\n",
       "      (conv2): Conv2d(512, 512, kernel_size=(3, 3), stride=(1, 1), padding=(1, 1), bias=False)\n",
       "      (bn2): BatchNorm2d(512, eps=1e-05, momentum=0.1, affine=True, track_running_stats=True)\n",
       "    )\n",
       "  )\n",
       "  (8): AdaptiveAvgPool2d(output_size=(1, 1))\n",
       "  (9): Linear(in_features=512, out_features=1000, bias=True)\n",
       ")"
      ]
     },
     "execution_count": 49,
     "metadata": {},
     "output_type": "execute_result"
    }
   ],
   "source": [
    "# Extracting the layers that are part of resnet18 originally and integrating into a Sequential class\n",
    "model_aux = nn.Sequential(*list(model_resnet18.children()))\n",
    "\n",
    "# Printing the above Sequential class which is identical to the resnet18 pretrained model\n",
    "# just for validation\n",
    "model_aux"
   ]
  },
  {
   "cell_type": "code",
   "execution_count": 51,
   "metadata": {
    "id": "vFqu8xp7B1Ua"
   },
   "outputs": [],
   "source": [
    "# Re-extracting all layers that are part of resnet18 except for the last Fully Connect layer\n",
    "model_aux = nn.Sequential(*list(model_resnet18.children())[:-1])"
   ]
  },
  {
   "cell_type": "code",
   "execution_count": 53,
   "metadata": {
    "colab": {
     "base_uri": "https://localhost:8080/"
    },
    "id": "W65fpo0SB1Ua",
    "outputId": "7aa218a7-c369-423e-b8c2-6e6e78911be9",
    "scrolled": true
   },
   "outputs": [
    {
     "data": {
      "text/plain": [
       "Sequential(\n",
       "  (0): Conv2d(3, 64, kernel_size=(7, 7), stride=(2, 2), padding=(3, 3), bias=False)\n",
       "  (1): BatchNorm2d(64, eps=1e-05, momentum=0.1, affine=True, track_running_stats=True)\n",
       "  (2): ReLU(inplace=True)\n",
       "  (3): MaxPool2d(kernel_size=3, stride=2, padding=1, dilation=1, ceil_mode=False)\n",
       "  (4): Sequential(\n",
       "    (0): BasicBlock(\n",
       "      (conv1): Conv2d(64, 64, kernel_size=(3, 3), stride=(1, 1), padding=(1, 1), bias=False)\n",
       "      (bn1): BatchNorm2d(64, eps=1e-05, momentum=0.1, affine=True, track_running_stats=True)\n",
       "      (relu): ReLU(inplace=True)\n",
       "      (conv2): Conv2d(64, 64, kernel_size=(3, 3), stride=(1, 1), padding=(1, 1), bias=False)\n",
       "      (bn2): BatchNorm2d(64, eps=1e-05, momentum=0.1, affine=True, track_running_stats=True)\n",
       "    )\n",
       "    (1): BasicBlock(\n",
       "      (conv1): Conv2d(64, 64, kernel_size=(3, 3), stride=(1, 1), padding=(1, 1), bias=False)\n",
       "      (bn1): BatchNorm2d(64, eps=1e-05, momentum=0.1, affine=True, track_running_stats=True)\n",
       "      (relu): ReLU(inplace=True)\n",
       "      (conv2): Conv2d(64, 64, kernel_size=(3, 3), stride=(1, 1), padding=(1, 1), bias=False)\n",
       "      (bn2): BatchNorm2d(64, eps=1e-05, momentum=0.1, affine=True, track_running_stats=True)\n",
       "    )\n",
       "  )\n",
       "  (5): Sequential(\n",
       "    (0): BasicBlock(\n",
       "      (conv1): Conv2d(64, 128, kernel_size=(3, 3), stride=(2, 2), padding=(1, 1), bias=False)\n",
       "      (bn1): BatchNorm2d(128, eps=1e-05, momentum=0.1, affine=True, track_running_stats=True)\n",
       "      (relu): ReLU(inplace=True)\n",
       "      (conv2): Conv2d(128, 128, kernel_size=(3, 3), stride=(1, 1), padding=(1, 1), bias=False)\n",
       "      (bn2): BatchNorm2d(128, eps=1e-05, momentum=0.1, affine=True, track_running_stats=True)\n",
       "      (downsample): Sequential(\n",
       "        (0): Conv2d(64, 128, kernel_size=(1, 1), stride=(2, 2), bias=False)\n",
       "        (1): BatchNorm2d(128, eps=1e-05, momentum=0.1, affine=True, track_running_stats=True)\n",
       "      )\n",
       "    )\n",
       "    (1): BasicBlock(\n",
       "      (conv1): Conv2d(128, 128, kernel_size=(3, 3), stride=(1, 1), padding=(1, 1), bias=False)\n",
       "      (bn1): BatchNorm2d(128, eps=1e-05, momentum=0.1, affine=True, track_running_stats=True)\n",
       "      (relu): ReLU(inplace=True)\n",
       "      (conv2): Conv2d(128, 128, kernel_size=(3, 3), stride=(1, 1), padding=(1, 1), bias=False)\n",
       "      (bn2): BatchNorm2d(128, eps=1e-05, momentum=0.1, affine=True, track_running_stats=True)\n",
       "    )\n",
       "  )\n",
       "  (6): Sequential(\n",
       "    (0): BasicBlock(\n",
       "      (conv1): Conv2d(128, 256, kernel_size=(3, 3), stride=(2, 2), padding=(1, 1), bias=False)\n",
       "      (bn1): BatchNorm2d(256, eps=1e-05, momentum=0.1, affine=True, track_running_stats=True)\n",
       "      (relu): ReLU(inplace=True)\n",
       "      (conv2): Conv2d(256, 256, kernel_size=(3, 3), stride=(1, 1), padding=(1, 1), bias=False)\n",
       "      (bn2): BatchNorm2d(256, eps=1e-05, momentum=0.1, affine=True, track_running_stats=True)\n",
       "      (downsample): Sequential(\n",
       "        (0): Conv2d(128, 256, kernel_size=(1, 1), stride=(2, 2), bias=False)\n",
       "        (1): BatchNorm2d(256, eps=1e-05, momentum=0.1, affine=True, track_running_stats=True)\n",
       "      )\n",
       "    )\n",
       "    (1): BasicBlock(\n",
       "      (conv1): Conv2d(256, 256, kernel_size=(3, 3), stride=(1, 1), padding=(1, 1), bias=False)\n",
       "      (bn1): BatchNorm2d(256, eps=1e-05, momentum=0.1, affine=True, track_running_stats=True)\n",
       "      (relu): ReLU(inplace=True)\n",
       "      (conv2): Conv2d(256, 256, kernel_size=(3, 3), stride=(1, 1), padding=(1, 1), bias=False)\n",
       "      (bn2): BatchNorm2d(256, eps=1e-05, momentum=0.1, affine=True, track_running_stats=True)\n",
       "    )\n",
       "  )\n",
       "  (7): Sequential(\n",
       "    (0): BasicBlock(\n",
       "      (conv1): Conv2d(256, 512, kernel_size=(3, 3), stride=(2, 2), padding=(1, 1), bias=False)\n",
       "      (bn1): BatchNorm2d(512, eps=1e-05, momentum=0.1, affine=True, track_running_stats=True)\n",
       "      (relu): ReLU(inplace=True)\n",
       "      (conv2): Conv2d(512, 512, kernel_size=(3, 3), stride=(1, 1), padding=(1, 1), bias=False)\n",
       "      (bn2): BatchNorm2d(512, eps=1e-05, momentum=0.1, affine=True, track_running_stats=True)\n",
       "      (downsample): Sequential(\n",
       "        (0): Conv2d(256, 512, kernel_size=(1, 1), stride=(2, 2), bias=False)\n",
       "        (1): BatchNorm2d(512, eps=1e-05, momentum=0.1, affine=True, track_running_stats=True)\n",
       "      )\n",
       "    )\n",
       "    (1): BasicBlock(\n",
       "      (conv1): Conv2d(512, 512, kernel_size=(3, 3), stride=(1, 1), padding=(1, 1), bias=False)\n",
       "      (bn1): BatchNorm2d(512, eps=1e-05, momentum=0.1, affine=True, track_running_stats=True)\n",
       "      (relu): ReLU(inplace=True)\n",
       "      (conv2): Conv2d(512, 512, kernel_size=(3, 3), stride=(1, 1), padding=(1, 1), bias=False)\n",
       "      (bn2): BatchNorm2d(512, eps=1e-05, momentum=0.1, affine=True, track_running_stats=True)\n",
       "    )\n",
       "  )\n",
       "  (8): AdaptiveAvgPool2d(output_size=(1, 1))\n",
       ")"
      ]
     },
     "execution_count": 53,
     "metadata": {},
     "output_type": "execute_result"
    }
   ],
   "source": [
    "# Printing for validate the Sequential class without the last FC layer\n",
    "model_aux"
   ]
  },
  {
   "cell_type": "code",
   "execution_count": 55,
   "metadata": {
    "id": "GXq5F7fDB1Ua"
   },
   "outputs": [],
   "source": [
    "# Locking all parameters so that they do not have to be retrained\n",
    "# and avoiding making training more expensive in resources\n",
    "for i, parameter in enumerate(model_aux.parameters()):\n",
    "    parameter.requires_grad = False"
   ]
  },
  {
   "cell_type": "code",
   "execution_count": 57,
   "metadata": {
    "colab": {
     "base_uri": "https://localhost:8080/"
    },
    "id": "LoUm7KOJB1Ua",
    "outputId": "85ed09fa-9156-491c-92da-e345fe999a28",
    "scrolled": true
   },
   "outputs": [
    {
     "name": "stdout",
     "output_type": "stream",
     "text": [
      "0 False\n",
      "1 False\n",
      "2 False\n",
      "3 False\n",
      "4 False\n",
      "5 False\n",
      "6 False\n",
      "7 False\n",
      "8 False\n",
      "9 False\n",
      "10 False\n",
      "11 False\n",
      "12 False\n",
      "13 False\n",
      "14 False\n",
      "15 False\n",
      "16 False\n",
      "17 False\n",
      "18 False\n",
      "19 False\n",
      "20 False\n",
      "21 False\n",
      "22 False\n",
      "23 False\n",
      "24 False\n",
      "25 False\n",
      "26 False\n",
      "27 False\n",
      "28 False\n",
      "29 False\n",
      "30 False\n",
      "31 False\n",
      "32 False\n",
      "33 False\n",
      "34 False\n",
      "35 False\n",
      "36 False\n",
      "37 False\n",
      "38 False\n",
      "39 False\n",
      "40 False\n",
      "41 False\n",
      "42 False\n",
      "43 False\n",
      "44 False\n",
      "45 False\n",
      "46 False\n",
      "47 False\n",
      "48 False\n",
      "49 False\n",
      "50 False\n",
      "51 False\n",
      "52 False\n",
      "53 False\n",
      "54 False\n",
      "55 False\n",
      "56 False\n",
      "57 False\n",
      "58 False\n",
      "59 False\n"
     ]
    }
   ],
   "source": [
    "# Printing (again) the default weights of resnet18 with requires_grad in False.\n",
    "for i, parameter in enumerate(model_aux.parameters()):\n",
    "    print(i, parameter.requires_grad)   # This false indicates that this leyers are frozen,\n",
    "                                        # they are not going to be modified on our train"
   ]
  },
  {
   "cell_type": "markdown",
   "metadata": {
    "id": "9GgEFKvBpr3o"
   },
   "source": [
    "#### Train model"
   ]
  },
  {
   "cell_type": "code",
   "execution_count": 60,
   "metadata": {
    "id": "IYqSygmjB1Ua"
   },
   "outputs": [],
   "source": [
    "# Learning rate\n",
    "lr = 5e-4\n",
    "\n",
    "# Number of epochs\n",
    "epochs = 3\n",
    "\n",
    "# The resnet18 model is declared with the original layers plus the layers we need for our case\n",
    "# 512 in features from the last layer of model_aux, and 10 out features (classes)\n",
    "model1 = nn.Sequential(model_aux,\n",
    "                       nn.Flatten(), #Flatten layer creates a vector from all the pixels we have\n",
    "                       nn.Linear(in_features=512, out_features= 10, bias= True)) # We perform an FC layer to create the outputs\n",
    "\n",
    "# Using Adam as optimization function\n",
    "optimiser = torch.optim.Adam(model1.parameters(), lr=lr, betas=(0.9, 0.999))    # optimizer will change \n",
    "                                                                                # the values only on out last FC layer"
   ]
  },
  {
   "cell_type": "code",
   "execution_count": 62,
   "metadata": {
    "colab": {
     "base_uri": "https://localhost:8080/"
    },
    "id": "nm0A0miJB1Ua",
    "outputId": "fad061a1-ab6a-4659-d92e-d95eb92fca3e",
    "scrolled": true
   },
   "outputs": [
    {
     "data": {
      "text/plain": [
       "Sequential(\n",
       "  (0): Sequential(\n",
       "    (0): Conv2d(3, 64, kernel_size=(7, 7), stride=(2, 2), padding=(3, 3), bias=False)\n",
       "    (1): BatchNorm2d(64, eps=1e-05, momentum=0.1, affine=True, track_running_stats=True)\n",
       "    (2): ReLU(inplace=True)\n",
       "    (3): MaxPool2d(kernel_size=3, stride=2, padding=1, dilation=1, ceil_mode=False)\n",
       "    (4): Sequential(\n",
       "      (0): BasicBlock(\n",
       "        (conv1): Conv2d(64, 64, kernel_size=(3, 3), stride=(1, 1), padding=(1, 1), bias=False)\n",
       "        (bn1): BatchNorm2d(64, eps=1e-05, momentum=0.1, affine=True, track_running_stats=True)\n",
       "        (relu): ReLU(inplace=True)\n",
       "        (conv2): Conv2d(64, 64, kernel_size=(3, 3), stride=(1, 1), padding=(1, 1), bias=False)\n",
       "        (bn2): BatchNorm2d(64, eps=1e-05, momentum=0.1, affine=True, track_running_stats=True)\n",
       "      )\n",
       "      (1): BasicBlock(\n",
       "        (conv1): Conv2d(64, 64, kernel_size=(3, 3), stride=(1, 1), padding=(1, 1), bias=False)\n",
       "        (bn1): BatchNorm2d(64, eps=1e-05, momentum=0.1, affine=True, track_running_stats=True)\n",
       "        (relu): ReLU(inplace=True)\n",
       "        (conv2): Conv2d(64, 64, kernel_size=(3, 3), stride=(1, 1), padding=(1, 1), bias=False)\n",
       "        (bn2): BatchNorm2d(64, eps=1e-05, momentum=0.1, affine=True, track_running_stats=True)\n",
       "      )\n",
       "    )\n",
       "    (5): Sequential(\n",
       "      (0): BasicBlock(\n",
       "        (conv1): Conv2d(64, 128, kernel_size=(3, 3), stride=(2, 2), padding=(1, 1), bias=False)\n",
       "        (bn1): BatchNorm2d(128, eps=1e-05, momentum=0.1, affine=True, track_running_stats=True)\n",
       "        (relu): ReLU(inplace=True)\n",
       "        (conv2): Conv2d(128, 128, kernel_size=(3, 3), stride=(1, 1), padding=(1, 1), bias=False)\n",
       "        (bn2): BatchNorm2d(128, eps=1e-05, momentum=0.1, affine=True, track_running_stats=True)\n",
       "        (downsample): Sequential(\n",
       "          (0): Conv2d(64, 128, kernel_size=(1, 1), stride=(2, 2), bias=False)\n",
       "          (1): BatchNorm2d(128, eps=1e-05, momentum=0.1, affine=True, track_running_stats=True)\n",
       "        )\n",
       "      )\n",
       "      (1): BasicBlock(\n",
       "        (conv1): Conv2d(128, 128, kernel_size=(3, 3), stride=(1, 1), padding=(1, 1), bias=False)\n",
       "        (bn1): BatchNorm2d(128, eps=1e-05, momentum=0.1, affine=True, track_running_stats=True)\n",
       "        (relu): ReLU(inplace=True)\n",
       "        (conv2): Conv2d(128, 128, kernel_size=(3, 3), stride=(1, 1), padding=(1, 1), bias=False)\n",
       "        (bn2): BatchNorm2d(128, eps=1e-05, momentum=0.1, affine=True, track_running_stats=True)\n",
       "      )\n",
       "    )\n",
       "    (6): Sequential(\n",
       "      (0): BasicBlock(\n",
       "        (conv1): Conv2d(128, 256, kernel_size=(3, 3), stride=(2, 2), padding=(1, 1), bias=False)\n",
       "        (bn1): BatchNorm2d(256, eps=1e-05, momentum=0.1, affine=True, track_running_stats=True)\n",
       "        (relu): ReLU(inplace=True)\n",
       "        (conv2): Conv2d(256, 256, kernel_size=(3, 3), stride=(1, 1), padding=(1, 1), bias=False)\n",
       "        (bn2): BatchNorm2d(256, eps=1e-05, momentum=0.1, affine=True, track_running_stats=True)\n",
       "        (downsample): Sequential(\n",
       "          (0): Conv2d(128, 256, kernel_size=(1, 1), stride=(2, 2), bias=False)\n",
       "          (1): BatchNorm2d(256, eps=1e-05, momentum=0.1, affine=True, track_running_stats=True)\n",
       "        )\n",
       "      )\n",
       "      (1): BasicBlock(\n",
       "        (conv1): Conv2d(256, 256, kernel_size=(3, 3), stride=(1, 1), padding=(1, 1), bias=False)\n",
       "        (bn1): BatchNorm2d(256, eps=1e-05, momentum=0.1, affine=True, track_running_stats=True)\n",
       "        (relu): ReLU(inplace=True)\n",
       "        (conv2): Conv2d(256, 256, kernel_size=(3, 3), stride=(1, 1), padding=(1, 1), bias=False)\n",
       "        (bn2): BatchNorm2d(256, eps=1e-05, momentum=0.1, affine=True, track_running_stats=True)\n",
       "      )\n",
       "    )\n",
       "    (7): Sequential(\n",
       "      (0): BasicBlock(\n",
       "        (conv1): Conv2d(256, 512, kernel_size=(3, 3), stride=(2, 2), padding=(1, 1), bias=False)\n",
       "        (bn1): BatchNorm2d(512, eps=1e-05, momentum=0.1, affine=True, track_running_stats=True)\n",
       "        (relu): ReLU(inplace=True)\n",
       "        (conv2): Conv2d(512, 512, kernel_size=(3, 3), stride=(1, 1), padding=(1, 1), bias=False)\n",
       "        (bn2): BatchNorm2d(512, eps=1e-05, momentum=0.1, affine=True, track_running_stats=True)\n",
       "        (downsample): Sequential(\n",
       "          (0): Conv2d(256, 512, kernel_size=(1, 1), stride=(2, 2), bias=False)\n",
       "          (1): BatchNorm2d(512, eps=1e-05, momentum=0.1, affine=True, track_running_stats=True)\n",
       "        )\n",
       "      )\n",
       "      (1): BasicBlock(\n",
       "        (conv1): Conv2d(512, 512, kernel_size=(3, 3), stride=(1, 1), padding=(1, 1), bias=False)\n",
       "        (bn1): BatchNorm2d(512, eps=1e-05, momentum=0.1, affine=True, track_running_stats=True)\n",
       "        (relu): ReLU(inplace=True)\n",
       "        (conv2): Conv2d(512, 512, kernel_size=(3, 3), stride=(1, 1), padding=(1, 1), bias=False)\n",
       "        (bn2): BatchNorm2d(512, eps=1e-05, momentum=0.1, affine=True, track_running_stats=True)\n",
       "      )\n",
       "    )\n",
       "    (8): AdaptiveAvgPool2d(output_size=(1, 1))\n",
       "  )\n",
       "  (1): Flatten(start_dim=1, end_dim=-1)\n",
       "  (2): Linear(in_features=512, out_features=10, bias=True)\n",
       ")"
      ]
     },
     "execution_count": 62,
     "metadata": {},
     "output_type": "execute_result"
    }
   ],
   "source": [
    "# Printing final resnet18 model with all layers\n",
    "model1"
   ]
  },
  {
   "cell_type": "code",
   "execution_count": 64,
   "metadata": {
    "colab": {
     "base_uri": "https://localhost:8080/"
    },
    "id": "U9t4Hcp6B1Ua",
    "outputId": "f937aace-4c7e-43d3-d65f-2a54882b3ece"
   },
   "outputs": [
    {
     "name": "stdout",
     "output_type": "stream",
     "text": [
      "Start training...\n",
      "Epoch: 0, cost: 0.818694531917572, accuracy: 0.7738,\n",
      "Epoch: 1, cost: 0.7382544875144958, accuracy: 0.79,\n",
      "Epoch: 2, cost: 0.23051898181438446, accuracy: 0.7986,\n"
     ]
    }
   ],
   "source": [
    "print('Start training...')\n",
    "train(model1, optimiser, epochs)"
   ]
  },
  {
   "cell_type": "markdown",
   "metadata": {
    "id": "R-4kO8mOB1Ua"
   },
   "source": [
    "### Resnet50"
   ]
  },
  {
   "cell_type": "code",
   "execution_count": 65,
   "metadata": {
    "colab": {
     "base_uri": "https://localhost:8080/"
    },
    "id": "A-iErMR5B1Ua",
    "outputId": "7048d88b-cedd-4309-cece-a06163650790"
   },
   "outputs": [
    {
     "name": "stdout",
     "output_type": "stream",
     "text": [
      "Start training...\n",
      "Epoch: 0, cost: 1.006422996520996, accuracy: 0.792,\n",
      "Epoch: 1, cost: 0.5532893538475037, accuracy: 0.8008,\n",
      "Epoch: 2, cost: 0.6747536659240723, accuracy: 0.807,\n"
     ]
    }
   ],
   "source": [
    "# Load pretrained model\n",
    "model_resnet50 = models.resnet50(weights=models.ResNet50_Weights.IMAGENET1K_V1) # This model is proved that has a good performance\n",
    "\n",
    "# Adjust to our model\n",
    "model_aux2 = nn.Sequential(*list(model_resnet50.children())[:-1]) #we remove the last layer to only have 10 output layers\n",
    "for i, parameter in enumerate(model_aux2.parameters()):\n",
    "    parameter.requires_grad = False\n",
    "\n",
    "# Learning rate\n",
    "lr = 5e-4\n",
    "\n",
    "# Number of epochs\n",
    "epochs = 3\n",
    "\n",
    "# The resnet50 model is declared with the original layers plus the layers we need for our case\n",
    "# 2048 in features from the last layer of model_aux2, and 10 out features (classes)\n",
    "model2 = nn.Sequential(model_aux2,\n",
    "                       nn.Flatten(), #as the previous model, we create a vector of pixels\n",
    "                       nn.Linear(in_features=2048, out_features= 10, bias= True)) # and create a FC layer at the end\n",
    "\n",
    "# Using Adam as optimization function\n",
    "optimiser = torch.optim.Adam(model2.parameters(), lr=lr, betas=(0.9, 0.999))\n",
    "\n",
    "print('Start training...')\n",
    "train(model2, optimiser, epochs)"
   ]
  },
  {
   "cell_type": "markdown",
   "metadata": {
    "id": "7kUXJiE-B1Ua"
   },
   "source": [
    "### AlexNet"
   ]
  },
  {
   "cell_type": "code",
   "execution_count": 67,
   "metadata": {
    "colab": {
     "base_uri": "https://localhost:8080/"
    },
    "id": "aEPMpEeFB1Ua",
    "outputId": "72c8a2ce-bd32-47b8-af61-77896829d74d"
   },
   "outputs": [
    {
     "name": "stderr",
     "output_type": "stream",
     "text": [
      "Downloading: \"https://download.pytorch.org/models/alexnet-owt-7be5be79.pth\" to C:\\Users\\edson/.cache\\torch\\hub\\checkpoints\\alexnet-owt-7be5be79.pth\n",
      "100%|███████████████████████████████████████████████████████████████████████████████| 233M/233M [00:23<00:00, 10.5MB/s]\n"
     ]
    },
    {
     "name": "stdout",
     "output_type": "stream",
     "text": [
      "Start training...\n",
      "Epoch: 0, cost: 0.4040079712867737, accuracy: 0.8188,\n",
      "Epoch: 1, cost: 0.2453603446483612, accuracy: 0.8386,\n",
      "Epoch: 2, cost: 0.17641042172908783, accuracy: 0.8212,\n"
     ]
    }
   ],
   "source": [
    "# Load pretrained model\n",
    "model_alexnet = models.alexnet(weights='DEFAULT') # This model is proved that has a good performance\n",
    "\n",
    "# Adjust to our model\n",
    "model_aux3 = nn.Sequential(*list(model_alexnet.children())[:-1]) #we remove the last layer to only have 10 output layers\n",
    "for i, parameter in enumerate(model_aux3.parameters()):\n",
    "    parameter.requires_grad = False\n",
    "\n",
    "# Learning rate\n",
    "lr = 5e-4\n",
    "\n",
    "# Number of epochs\n",
    "epochs = 3\n",
    "\n",
    "# The alexnet model is declared with the original layers plus the layers we need for our case\n",
    "# 9216 in features from the last layer of model_aux3, and 10 out features (classes)\n",
    "model3 = nn.Sequential(model_aux3,\n",
    "                       nn.Flatten(),\n",
    "                       nn.Linear(in_features=9216, out_features= 10, bias= True))\n",
    "\n",
    "# Using Adam as optimization function\n",
    "optimiser = torch.optim.Adam(model3.parameters(), lr=lr, betas=(0.9, 0.999))\n",
    "\n",
    "print('Start training...')\n",
    "train(model3, optimiser, epochs)"
   ]
  },
  {
   "cell_type": "markdown",
   "metadata": {
    "id": "elCJTUjjB1Ua"
   },
   "source": [
    "## Accuracies"
   ]
  },
  {
   "cell_type": "code",
   "execution_count": 69,
   "metadata": {
    "colab": {
     "base_uri": "https://localhost:8080/"
    },
    "id": "Y1rwHnjQB1Ua",
    "outputId": "e198dd04-f650-422d-df37-94562e31b765"
   },
   "outputs": [
    {
     "data": {
      "text/plain": [
       "0.7935"
      ]
     },
     "execution_count": 69,
     "metadata": {},
     "output_type": "execute_result"
    }
   ],
   "source": [
    "#ResNet18\n",
    "accuracy(model1, test_loader)"
   ]
  },
  {
   "cell_type": "code",
   "execution_count": 70,
   "metadata": {
    "colab": {
     "base_uri": "https://localhost:8080/"
    },
    "id": "YwvdH02oB1Ua",
    "outputId": "2a6ac145-ee46-423d-9896-7925c1df780f"
   },
   "outputs": [
    {
     "data": {
      "text/plain": [
       "0.8029"
      ]
     },
     "execution_count": 70,
     "metadata": {},
     "output_type": "execute_result"
    }
   ],
   "source": [
    "#ResNet50\n",
    "accuracy(model2, test_loader)"
   ]
  },
  {
   "cell_type": "code",
   "execution_count": 71,
   "metadata": {
    "colab": {
     "base_uri": "https://localhost:8080/"
    },
    "id": "P3V-4SgqNZcS",
    "outputId": "7ebc535b-917b-4fe1-8402-e0017f00d3c2"
   },
   "outputs": [
    {
     "data": {
      "text/plain": [
       "0.8198"
      ]
     },
     "execution_count": 71,
     "metadata": {},
     "output_type": "execute_result"
    }
   ],
   "source": [
    "#AlexNet\n",
    "accuracy(model3, test_loader)"
   ]
  },
  {
   "cell_type": "code",
   "execution_count": null,
   "metadata": {},
   "outputs": [],
   "source": []
  }
 ],
 "metadata": {
  "accelerator": "GPU",
  "colab": {
   "gpuType": "T4",
   "provenance": [],
   "toc_visible": true
  },
  "kernelspec": {
   "display_name": "Python 3",
   "language": "python",
   "name": "python3"
  },
  "language_info": {
   "codemirror_mode": {
    "name": "ipython",
    "version": 3
   },
   "file_extension": ".py",
   "mimetype": "text/x-python",
   "name": "python",
   "nbconvert_exporter": "python",
   "pygments_lexer": "ipython3",
   "version": "3.9.0"
  },
  "toc": {
   "base_numbering": 1,
   "nav_menu": {},
   "number_sections": true,
   "sideBar": true,
   "skip_h1_title": false,
   "title_cell": "Table of Contents",
   "title_sidebar": "Contents",
   "toc_cell": false,
   "toc_position": {},
   "toc_section_display": true,
   "toc_window_display": false
  },
  "varInspector": {
   "cols": {
    "lenName": 16,
    "lenType": 16,
    "lenVar": 40
   },
   "kernels_config": {
    "python": {
     "delete_cmd_postfix": "",
     "delete_cmd_prefix": "del ",
     "library": "var_list.py",
     "varRefreshCmd": "print(var_dic_list())"
    },
    "r": {
     "delete_cmd_postfix": ") ",
     "delete_cmd_prefix": "rm(",
     "library": "var_list.r",
     "varRefreshCmd": "cat(var_dic_list()) "
    }
   },
   "types_to_exclude": [
    "module",
    "function",
    "builtin_function_or_method",
    "instance",
    "_Feature"
   ],
   "window_display": false
  }
 },
 "nbformat": 4,
 "nbformat_minor": 4
}
